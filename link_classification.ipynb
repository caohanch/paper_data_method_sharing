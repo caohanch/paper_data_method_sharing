{
 "cells": [
  {
   "cell_type": "code",
   "execution_count": 1,
   "metadata": {},
   "outputs": [
    {
     "ename": "ImportError",
     "evalue": "No module named 'torch'",
     "output_type": "error",
     "traceback": [
      "\u001b[0;31m---------------------------------------------------------------------------\u001b[0m",
      "\u001b[0;31mImportError\u001b[0m                               Traceback (most recent call last)",
      "\u001b[0;32m<ipython-input-1-e630839ab75f>\u001b[0m in \u001b[0;36m<module>\u001b[0;34m()\u001b[0m\n\u001b[1;32m      1\u001b[0m \u001b[0;32mimport\u001b[0m \u001b[0mpandas\u001b[0m \u001b[0;32mas\u001b[0m \u001b[0mpd\u001b[0m\u001b[0;34m\u001b[0m\u001b[0m\n\u001b[0;32m----> 2\u001b[0;31m \u001b[0;32mimport\u001b[0m \u001b[0mtorch\u001b[0m\u001b[0;34m\u001b[0m\u001b[0m\n\u001b[0m\u001b[1;32m      3\u001b[0m \u001b[0;32mimport\u001b[0m \u001b[0mnumpy\u001b[0m \u001b[0;32mas\u001b[0m \u001b[0mnp\u001b[0m\u001b[0;34m\u001b[0m\u001b[0m\n",
      "\u001b[0;31mImportError\u001b[0m: No module named 'torch'"
     ]
    }
   ],
   "source": [
    "# fine-tune scibert on Zhao et al. dataset and make inference on our own\n",
    "import pandas as pd\n",
    "import torch\n",
    "import numpy as np"
   ]
  },
  {
   "cell_type": "code",
   "execution_count": 2,
   "metadata": {},
   "outputs": [],
   "source": [
    "device = \"cuda:0\" if torch.cuda.is_available() else \"cpu\""
   ]
  },
  {
   "cell_type": "code",
   "execution_count": 3,
   "metadata": {},
   "outputs": [],
   "source": [
    "artifact_type_map = {'Material':0,'Method':1,'Supplement':2}"
   ]
  },
  {
   "cell_type": "code",
   "execution_count": 4,
   "metadata": {},
   "outputs": [],
   "source": [
    "type_artifact_map = {0:'Material',1:'Method',2:'Supplement'}"
   ]
  },
  {
   "cell_type": "code",
   "execution_count": 5,
   "metadata": {},
   "outputs": [],
   "source": [
    "# available from Zhao et al. https://aclanthology.org/D19-1524/, https://github.com/zhaohe1995/SciRes\n",
    "# first load the dataset\n",
    "f = open('role_1st_train.txt')\n",
    "line = f.readline()\n",
    "Context = []\n",
    "Label = []\n",
    "while line:\n",
    "    Context.append(line.split('__label__')[0])\n",
    "    Label.append(artifact_type_map[line.split('__label__')[1].split('|')[0]])\n",
    "    line = f.readline()\n",
    "    \n",
    "df_train = pd.DataFrame({'label':Label,'text':Context})\n",
    "\n",
    "# first load the dataset\n",
    "f = open('test.txt')\n",
    "line = f.readline()\n",
    "Context = []\n",
    "Label = []\n",
    "while line:\n",
    "    Context.append(line.split('__label__')[0])\n",
    "    Label.append(artifact_type_map[line.split('__label__')[1].split('|')[0]])\n",
    "    line = f.readline()\n",
    "    \n",
    "df_test = pd.DataFrame({'label':Label,'text':Context})\n",
    "\n",
    "from datasets import Dataset\n",
    "dataset_train = Dataset.from_pandas(df_train)\n",
    "dataset_test = Dataset.from_pandas(df_test)"
   ]
  },
  {
   "cell_type": "code",
   "execution_count": 6,
   "metadata": {},
   "outputs": [
    {
     "name": "stderr",
     "output_type": "stream",
     "text": [
      "Could not locate the tokenizer configuration file, will try to use the model config instead.\n",
      "loading configuration file https://huggingface.co/allenai/scibert_scivocab_uncased/resolve/main/config.json from cache at /home/hanchengc/.cache/huggingface/transformers/858852fd2471ce39075378592ddc87f5a6551e64c6825d1b92c8dab9318e0fc3.03ff9e9f998b9a9d40647a2148a202e3fb3d568dc0f170dda9dda194bab4d5dd\n",
      "Model config BertConfig {\n",
      "  \"_name_or_path\": \"allenai/scibert_scivocab_uncased\",\n",
      "  \"attention_probs_dropout_prob\": 0.1,\n",
      "  \"classifier_dropout\": null,\n",
      "  \"hidden_act\": \"gelu\",\n",
      "  \"hidden_dropout_prob\": 0.1,\n",
      "  \"hidden_size\": 768,\n",
      "  \"initializer_range\": 0.02,\n",
      "  \"intermediate_size\": 3072,\n",
      "  \"layer_norm_eps\": 1e-12,\n",
      "  \"max_position_embeddings\": 512,\n",
      "  \"model_type\": \"bert\",\n",
      "  \"num_attention_heads\": 12,\n",
      "  \"num_hidden_layers\": 12,\n",
      "  \"pad_token_id\": 0,\n",
      "  \"position_embedding_type\": \"absolute\",\n",
      "  \"transformers_version\": \"4.21.3\",\n",
      "  \"type_vocab_size\": 2,\n",
      "  \"use_cache\": true,\n",
      "  \"vocab_size\": 31090\n",
      "}\n",
      "\n",
      "loading file https://huggingface.co/allenai/scibert_scivocab_uncased/resolve/main/vocab.txt from cache at /home/hanchengc/.cache/huggingface/transformers/33593020f507d72099bd84ea6cd2296feb424fecd62d4a8edcc2a02899af6e29.38339d84e6e392addd730fd85fae32652c4cc7c5423633d6fa73e5f7937bbc38\n",
      "loading file https://huggingface.co/allenai/scibert_scivocab_uncased/resolve/main/tokenizer.json from cache at None\n",
      "loading file https://huggingface.co/allenai/scibert_scivocab_uncased/resolve/main/added_tokens.json from cache at None\n",
      "loading file https://huggingface.co/allenai/scibert_scivocab_uncased/resolve/main/special_tokens_map.json from cache at None\n",
      "loading file https://huggingface.co/allenai/scibert_scivocab_uncased/resolve/main/tokenizer_config.json from cache at None\n",
      "loading configuration file https://huggingface.co/allenai/scibert_scivocab_uncased/resolve/main/config.json from cache at /home/hanchengc/.cache/huggingface/transformers/858852fd2471ce39075378592ddc87f5a6551e64c6825d1b92c8dab9318e0fc3.03ff9e9f998b9a9d40647a2148a202e3fb3d568dc0f170dda9dda194bab4d5dd\n",
      "Model config BertConfig {\n",
      "  \"_name_or_path\": \"allenai/scibert_scivocab_uncased\",\n",
      "  \"attention_probs_dropout_prob\": 0.1,\n",
      "  \"classifier_dropout\": null,\n",
      "  \"hidden_act\": \"gelu\",\n",
      "  \"hidden_dropout_prob\": 0.1,\n",
      "  \"hidden_size\": 768,\n",
      "  \"initializer_range\": 0.02,\n",
      "  \"intermediate_size\": 3072,\n",
      "  \"layer_norm_eps\": 1e-12,\n",
      "  \"max_position_embeddings\": 512,\n",
      "  \"model_type\": \"bert\",\n",
      "  \"num_attention_heads\": 12,\n",
      "  \"num_hidden_layers\": 12,\n",
      "  \"pad_token_id\": 0,\n",
      "  \"position_embedding_type\": \"absolute\",\n",
      "  \"transformers_version\": \"4.21.3\",\n",
      "  \"type_vocab_size\": 2,\n",
      "  \"use_cache\": true,\n",
      "  \"vocab_size\": 31090\n",
      "}\n",
      "\n",
      "loading configuration file https://huggingface.co/allenai/scibert_scivocab_uncased/resolve/main/config.json from cache at /home/hanchengc/.cache/huggingface/transformers/858852fd2471ce39075378592ddc87f5a6551e64c6825d1b92c8dab9318e0fc3.03ff9e9f998b9a9d40647a2148a202e3fb3d568dc0f170dda9dda194bab4d5dd\n",
      "Model config BertConfig {\n",
      "  \"_name_or_path\": \"allenai/scibert_scivocab_uncased\",\n",
      "  \"attention_probs_dropout_prob\": 0.1,\n",
      "  \"classifier_dropout\": null,\n",
      "  \"hidden_act\": \"gelu\",\n",
      "  \"hidden_dropout_prob\": 0.1,\n",
      "  \"hidden_size\": 768,\n",
      "  \"initializer_range\": 0.02,\n",
      "  \"intermediate_size\": 3072,\n",
      "  \"layer_norm_eps\": 1e-12,\n",
      "  \"max_position_embeddings\": 512,\n",
      "  \"model_type\": \"bert\",\n",
      "  \"num_attention_heads\": 12,\n",
      "  \"num_hidden_layers\": 12,\n",
      "  \"pad_token_id\": 0,\n",
      "  \"position_embedding_type\": \"absolute\",\n",
      "  \"transformers_version\": \"4.21.3\",\n",
      "  \"type_vocab_size\": 2,\n",
      "  \"use_cache\": true,\n",
      "  \"vocab_size\": 31090\n",
      "}\n",
      "\n"
     ]
    }
   ],
   "source": [
    "from transformers import *\n",
    "\n",
    "tokenizer = AutoTokenizer.from_pretrained('allenai/scibert_scivocab_uncased')"
   ]
  },
  {
   "cell_type": "code",
   "execution_count": 7,
   "metadata": {},
   "outputs": [],
   "source": [
    "def preprocess_function(examples):\n",
    "    return tokenizer(examples[\"text\"], truncation=True, padding=True, max_length=256)"
   ]
  },
  {
   "cell_type": "code",
   "execution_count": 8,
   "metadata": {},
   "outputs": [
    {
     "data": {
      "application/vnd.jupyter.widget-view+json": {
       "model_id": "c9365cc91b68435fa2328ab630b49655",
       "version_major": 2,
       "version_minor": 0
      },
      "text/plain": [
       "  0%|          | 0/3 [00:00<?, ?ba/s]"
      ]
     },
     "metadata": {},
     "output_type": "display_data"
    },
    {
     "data": {
      "application/vnd.jupyter.widget-view+json": {
       "model_id": "d6e63753bb254c9ca68669d79855e406",
       "version_major": 2,
       "version_minor": 0
      },
      "text/plain": [
       "  0%|          | 0/1 [00:00<?, ?ba/s]"
      ]
     },
     "metadata": {},
     "output_type": "display_data"
    }
   ],
   "source": [
    "tokenized_dataset_train = dataset_train.map(preprocess_function, batched=True)\n",
    "tokenized_dataset_test = dataset_test.map(preprocess_function, batched=True)"
   ]
  },
  {
   "cell_type": "code",
   "execution_count": 9,
   "metadata": {},
   "outputs": [],
   "source": [
    "from transformers import DataCollatorWithPadding\n",
    "\n",
    "data_collator = DataCollatorWithPadding(tokenizer=tokenizer)"
   ]
  },
  {
   "cell_type": "code",
   "execution_count": 10,
   "metadata": {},
   "outputs": [
    {
     "name": "stderr",
     "output_type": "stream",
     "text": [
      "loading configuration file https://huggingface.co/allenai/scibert_scivocab_uncased/resolve/main/config.json from cache at /home/hanchengc/.cache/huggingface/transformers/858852fd2471ce39075378592ddc87f5a6551e64c6825d1b92c8dab9318e0fc3.03ff9e9f998b9a9d40647a2148a202e3fb3d568dc0f170dda9dda194bab4d5dd\n",
      "Model config BertConfig {\n",
      "  \"_name_or_path\": \"allenai/scibert_scivocab_uncased\",\n",
      "  \"attention_probs_dropout_prob\": 0.1,\n",
      "  \"classifier_dropout\": null,\n",
      "  \"hidden_act\": \"gelu\",\n",
      "  \"hidden_dropout_prob\": 0.1,\n",
      "  \"hidden_size\": 768,\n",
      "  \"id2label\": {\n",
      "    \"0\": \"LABEL_0\",\n",
      "    \"1\": \"LABEL_1\",\n",
      "    \"2\": \"LABEL_2\"\n",
      "  },\n",
      "  \"initializer_range\": 0.02,\n",
      "  \"intermediate_size\": 3072,\n",
      "  \"label2id\": {\n",
      "    \"LABEL_0\": 0,\n",
      "    \"LABEL_1\": 1,\n",
      "    \"LABEL_2\": 2\n",
      "  },\n",
      "  \"layer_norm_eps\": 1e-12,\n",
      "  \"max_position_embeddings\": 512,\n",
      "  \"model_type\": \"bert\",\n",
      "  \"num_attention_heads\": 12,\n",
      "  \"num_hidden_layers\": 12,\n",
      "  \"pad_token_id\": 0,\n",
      "  \"position_embedding_type\": \"absolute\",\n",
      "  \"transformers_version\": \"4.21.3\",\n",
      "  \"type_vocab_size\": 2,\n",
      "  \"use_cache\": true,\n",
      "  \"vocab_size\": 31090\n",
      "}\n",
      "\n",
      "loading weights file https://huggingface.co/allenai/scibert_scivocab_uncased/resolve/main/pytorch_model.bin from cache at /home/hanchengc/.cache/huggingface/transformers/de14937a851e8180a2bc5660c0041d385f8a0c62b1b2ccafa46df31043a2390c.74830bb01a0ffcdeaed8be9916312726d0c4cd364ac6fc15b375f789eaff4cbb\n",
      "Some weights of the model checkpoint at allenai/scibert_scivocab_uncased were not used when initializing BertForSequenceClassification: ['cls.predictions.decoder.weight', 'cls.predictions.transform.LayerNorm.bias', 'cls.predictions.bias', 'cls.seq_relationship.bias', 'cls.seq_relationship.weight', 'cls.predictions.transform.dense.bias', 'cls.predictions.transform.dense.weight', 'cls.predictions.decoder.bias', 'cls.predictions.transform.LayerNorm.weight']\n",
      "- This IS expected if you are initializing BertForSequenceClassification from the checkpoint of a model trained on another task or with another architecture (e.g. initializing a BertForSequenceClassification model from a BertForPreTraining model).\n",
      "- This IS NOT expected if you are initializing BertForSequenceClassification from the checkpoint of a model that you expect to be exactly identical (initializing a BertForSequenceClassification model from a BertForSequenceClassification model).\n",
      "Some weights of BertForSequenceClassification were not initialized from the model checkpoint at allenai/scibert_scivocab_uncased and are newly initialized: ['classifier.weight', 'classifier.bias']\n",
      "You should probably TRAIN this model on a down-stream task to be able to use it for predictions and inference.\n"
     ]
    }
   ],
   "source": [
    "from transformers import AutoModelForSequenceClassification, TrainingArguments, Trainer\n",
    "\n",
    "#model = AutoModelForSequenceClassification.from_pretrained(\"distilbert-base-uncased\", num_labels=3)\n",
    "model = AutoModelForSequenceClassification.from_pretrained(\"allenai/scibert_scivocab_uncased\", num_labels=3).to(\"cuda\")"
   ]
  },
  {
   "cell_type": "code",
   "execution_count": 11,
   "metadata": {},
   "outputs": [
    {
     "name": "stderr",
     "output_type": "stream",
     "text": [
      "PyTorch: setting up devices\n",
      "The default value for the training argument `--report_to` will change in v5 (from all installed integrations to none). In v5, you will need to use `--report_to all` to get the same behavior as now. You should start updating your code and make this info disappear :-).\n",
      "The following columns in the training set don't have a corresponding argument in `BertForSequenceClassification.forward` and have been ignored: text. If text are not expected by `BertForSequenceClassification.forward`,  you can safely ignore this message.\n",
      "/opt/miniconda3/lib/python3.9/site-packages/transformers/optimization.py:306: FutureWarning: This implementation of AdamW is deprecated and will be removed in a future version. Use the PyTorch implementation torch.optim.AdamW instead, or set `no_deprecation_warning=True` to disable this warning\n",
      "  warnings.warn(\n",
      "***** Running training *****\n",
      "  Num examples = 2988\n",
      "  Num Epochs = 5\n",
      "  Instantaneous batch size per device = 16\n",
      "  Total train batch size (w. parallel, distributed & accumulation) = 16\n",
      "  Gradient Accumulation steps = 1\n",
      "  Total optimization steps = 935\n"
     ]
    },
    {
     "data": {
      "text/html": [
       "\n",
       "    <div>\n",
       "      \n",
       "      <progress value='935' max='935' style='width:300px; height:20px; vertical-align: middle;'></progress>\n",
       "      [935/935 04:26, Epoch 5/5]\n",
       "    </div>\n",
       "    <table border=\"1\" class=\"dataframe\">\n",
       "  <thead>\n",
       " <tr style=\"text-align: left;\">\n",
       "      <th>Step</th>\n",
       "      <th>Training Loss</th>\n",
       "    </tr>\n",
       "  </thead>\n",
       "  <tbody>\n",
       "    <tr>\n",
       "      <td>500</td>\n",
       "      <td>0.442000</td>\n",
       "    </tr>\n",
       "  </tbody>\n",
       "</table><p>"
      ],
      "text/plain": [
       "<IPython.core.display.HTML object>"
      ]
     },
     "metadata": {},
     "output_type": "display_data"
    },
    {
     "name": "stderr",
     "output_type": "stream",
     "text": [
      "Saving model checkpoint to ./results/checkpoint-500\n",
      "Configuration saved in ./results/checkpoint-500/config.json\n",
      "Model weights saved in ./results/checkpoint-500/pytorch_model.bin\n",
      "tokenizer config file saved in ./results/checkpoint-500/tokenizer_config.json\n",
      "Special tokens file saved in ./results/checkpoint-500/special_tokens_map.json\n",
      "\n",
      "\n",
      "Training completed. Do not forget to share your model on huggingface.co/models =)\n",
      "\n",
      "\n"
     ]
    },
    {
     "data": {
      "text/plain": [
       "TrainOutput(global_step=935, training_loss=0.3136039937881225, metrics={'train_runtime': 267.1611, 'train_samples_per_second': 55.921, 'train_steps_per_second': 3.5, 'total_flos': 1965457230428160.0, 'train_loss': 0.3136039937881225, 'epoch': 5.0})"
      ]
     },
     "execution_count": 11,
     "metadata": {},
     "output_type": "execute_result"
    }
   ],
   "source": [
    "training_args = TrainingArguments(\n",
    "    output_dir=\"./results\",\n",
    "    learning_rate=2e-5,\n",
    "    per_device_train_batch_size=16,\n",
    "    per_device_eval_batch_size=16,\n",
    "    num_train_epochs=5,\n",
    "    weight_decay=0.05,\n",
    ")\n",
    "\n",
    "trainer = Trainer(\n",
    "    model=model,\n",
    "    args=training_args,\n",
    "    #train_dataset=tokenized_imdb[\"train\"],\n",
    "    train_dataset=tokenized_dataset_train,\n",
    "    #eval_dataset=tokenized_imdb[\"test\"],\n",
    "    \n",
    "    eval_dataset=tokenized_dataset_test,\n",
    "    tokenizer=tokenizer,\n",
    "    data_collator=data_collator,\n",
    ")\n",
    "\n",
    "trainer.train()"
   ]
  },
  {
   "cell_type": "code",
   "execution_count": 12,
   "metadata": {},
   "outputs": [
    {
     "name": "stderr",
     "output_type": "stream",
     "text": [
      "Saving model checkpoint to scibert_artifact_classifier\n",
      "Configuration saved in scibert_artifact_classifier/config.json\n",
      "Model weights saved in scibert_artifact_classifier/pytorch_model.bin\n",
      "tokenizer config file saved in scibert_artifact_classifier/tokenizer_config.json\n",
      "Special tokens file saved in scibert_artifact_classifier/special_tokens_map.json\n"
     ]
    }
   ],
   "source": [
    "trainer.save_model(\"scibert_artifact_classifier\")"
   ]
  },
  {
   "cell_type": "code",
   "execution_count": 2,
   "metadata": {},
   "outputs": [
    {
     "ename": "ImportError",
     "evalue": "No module named 'datasets'",
     "output_type": "error",
     "traceback": [
      "\u001b[0;31m---------------------------------------------------------------------------\u001b[0m",
      "\u001b[0;31mImportError\u001b[0m                               Traceback (most recent call last)",
      "\u001b[0;32m<ipython-input-2-75db7450f822>\u001b[0m in \u001b[0;36m<module>\u001b[0;34m()\u001b[0m\n\u001b[1;32m      1\u001b[0m \u001b[0;32mimport\u001b[0m \u001b[0mnumpy\u001b[0m \u001b[0;32mas\u001b[0m \u001b[0mnp\u001b[0m\u001b[0;34m\u001b[0m\u001b[0m\n\u001b[0;32m----> 2\u001b[0;31m \u001b[0;32mfrom\u001b[0m \u001b[0mdatasets\u001b[0m \u001b[0;32mimport\u001b[0m \u001b[0mload_metric\u001b[0m\u001b[0;34m\u001b[0m\u001b[0m\n\u001b[0m\u001b[1;32m      3\u001b[0m \u001b[0;34m\u001b[0m\u001b[0m\n\u001b[1;32m      4\u001b[0m \u001b[0mmetric\u001b[0m \u001b[0;34m=\u001b[0m \u001b[0mload_metric\u001b[0m\u001b[0;34m(\u001b[0m\u001b[0;34m\"accuracy\"\u001b[0m\u001b[0;34m)\u001b[0m\u001b[0;34m\u001b[0m\u001b[0m\n\u001b[1;32m      5\u001b[0m \u001b[0;34m\u001b[0m\u001b[0m\n",
      "\u001b[0;31mImportError\u001b[0m: No module named 'datasets'"
     ]
    }
   ],
   "source": [
    "import numpy as np\n",
    "from datasets import load_metric\n",
    "\n",
    "metric = load_metric(\"accuracy\")\n",
    "\n",
    "def compute_metrics(eval_pred):\n",
    "    logits, labels = eval_pred\n",
    "    predictions = np.argmax(logits, axis=-1)\n",
    "    return metric.compute(predictions=predictions, references=labels)"
   ]
  },
  {
   "cell_type": "code",
   "execution_count": 14,
   "metadata": {},
   "outputs": [
    {
     "name": "stderr",
     "output_type": "stream",
     "text": [
      "The following columns in the test set don't have a corresponding argument in `BertForSequenceClassification.forward` and have been ignored: text. If text are not expected by `BertForSequenceClassification.forward`,  you can safely ignore this message.\n",
      "***** Running Prediction *****\n",
      "  Num examples = 333\n",
      "  Batch size = 16\n"
     ]
    },
    {
     "data": {
      "text/html": [],
      "text/plain": [
       "<IPython.core.display.HTML object>"
      ]
     },
     "metadata": {},
     "output_type": "display_data"
    },
    {
     "name": "stdout",
     "output_type": "stream",
     "text": [
      "(333, 3) (333,)\n"
     ]
    },
    {
     "data": {
      "text/plain": [
       "{'f1': 0.8258258258258259}"
      ]
     },
     "execution_count": 14,
     "metadata": {},
     "output_type": "execute_result"
    }
   ],
   "source": [
    "predictions = trainer.predict(tokenized_dataset_test)\n",
    "print(predictions.predictions.shape, predictions.label_ids.shape)\n",
    "\n",
    "import numpy as np\n",
    "\n",
    "preds = np.argmax(predictions.predictions, axis=-1)\n",
    "\n",
    "import evaluate\n",
    "\n",
    "metric = evaluate.load(\"f1\")\n",
    "metric.compute(predictions=preds, references=predictions.label_ids, average='micro')"
   ]
  },
  {
   "cell_type": "code",
   "execution_count": 15,
   "metadata": {},
   "outputs": [
    {
     "data": {
      "text/plain": [
       "{'accuracy': 0.8258258258258259}"
      ]
     },
     "execution_count": 15,
     "metadata": {},
     "output_type": "execute_result"
    }
   ],
   "source": [
    "metric = evaluate.load(\"accuracy\")\n",
    "metric.compute(predictions=preds, references=predictions.label_ids)"
   ]
  },
  {
   "cell_type": "code",
   "execution_count": 40,
   "metadata": {},
   "outputs": [
    {
     "data": {
      "text/plain": [
       "array([0, 1, 1, 2, 1, 1, 2, 1, 0, 1, 0, 0, 2, 0, 0, 1, 2, 0, 2, 1, 2, 1,\n",
       "       1, 0, 0, 0, 2, 1, 2, 2, 1, 0, 2, 0, 2, 0, 1, 0, 0, 2, 1, 2, 2, 0,\n",
       "       0, 0, 2, 2, 2, 2, 1, 1, 1, 0, 1, 1, 1, 1, 1, 2, 2, 0, 0, 0, 0, 2,\n",
       "       2, 1, 2, 1, 0, 2, 2, 0, 2, 1, 2, 1, 1, 0, 2, 0, 2, 2, 2, 1, 1, 0,\n",
       "       1, 0, 1, 0, 0, 2, 1, 2, 2, 0, 2, 2, 1, 2, 0, 1, 0, 2, 1, 2, 2, 0,\n",
       "       2, 2, 1, 0, 2, 0, 2, 1, 2, 2, 1, 2, 0, 1, 0, 1, 1, 2, 2, 2, 0, 1,\n",
       "       1, 2, 1, 2, 2, 1, 1, 2, 0, 2, 1, 1, 0, 2, 0, 1, 0, 2, 0, 2, 0, 2,\n",
       "       1, 2, 1, 1, 2, 0, 1, 0, 2, 1, 2, 2, 2, 1, 2, 1, 0, 0, 0, 2, 1, 0,\n",
       "       1, 1, 1, 2, 1, 1, 1, 1, 2, 0, 0, 0, 1, 0, 0, 1, 0, 2, 1, 0, 1, 2,\n",
       "       2, 1, 0, 1, 1, 1, 1, 2, 0, 2, 2, 2, 0, 0, 2, 0, 0, 1, 2, 1, 0, 1,\n",
       "       0, 2, 2, 1, 0, 2, 0, 0, 0, 1, 2, 1, 1, 0, 1, 1, 0, 0, 0, 2, 2, 1,\n",
       "       1, 2, 0, 1, 2, 2, 0, 1, 1, 0, 0, 0, 2, 1, 1, 2, 2, 0, 2, 1, 2, 1,\n",
       "       1, 2, 1, 2, 1, 2, 0, 1, 2, 1, 2, 1, 2, 0, 0, 0, 0, 1, 0, 1, 1, 2,\n",
       "       2, 1, 2, 2, 0, 0, 0, 0, 0, 1, 1, 1, 1, 0, 1, 0, 1, 2, 1, 0, 2, 1,\n",
       "       1, 2, 1, 1, 1, 2, 2, 1, 0, 1, 0, 0, 1, 0, 0, 0, 0, 2, 2, 2, 0, 0,\n",
       "       2, 0, 0])"
      ]
     },
     "execution_count": 40,
     "metadata": {},
     "output_type": "execute_result"
    }
   ],
   "source": [
    "preds"
   ]
  },
  {
   "cell_type": "code",
   "execution_count": 41,
   "metadata": {},
   "outputs": [
    {
     "data": {
      "text/plain": [
       "array([0, 1, 1, 2, 1, 1, 2, 2, 0, 1, 0, 2, 2, 0, 0, 1, 2, 0, 2, 2, 1, 1,\n",
       "       1, 0, 1, 0, 2, 1, 2, 2, 1, 0, 2, 0, 2, 0, 1, 0, 0, 2, 0, 2, 2, 1,\n",
       "       0, 0, 2, 0, 2, 2, 1, 1, 1, 0, 1, 1, 2, 1, 1, 2, 2, 0, 0, 2, 0, 1,\n",
       "       2, 1, 2, 1, 0, 2, 2, 0, 2, 2, 0, 1, 1, 0, 2, 0, 2, 2, 2, 1, 1, 0,\n",
       "       1, 0, 1, 2, 0, 2, 1, 2, 2, 2, 2, 2, 1, 0, 0, 1, 0, 0, 0, 0, 2, 1,\n",
       "       0, 2, 1, 0, 2, 2, 2, 1, 2, 1, 1, 2, 0, 1, 2, 1, 0, 2, 2, 1, 0, 1,\n",
       "       1, 2, 1, 2, 2, 1, 1, 1, 1, 2, 1, 0, 0, 2, 0, 1, 0, 1, 0, 2, 0, 0,\n",
       "       1, 2, 1, 1, 2, 0, 1, 2, 2, 1, 2, 0, 2, 1, 2, 1, 0, 0, 0, 2, 1, 0,\n",
       "       1, 1, 1, 0, 0, 1, 1, 1, 2, 0, 0, 0, 1, 0, 0, 1, 0, 2, 1, 0, 1, 2,\n",
       "       0, 1, 0, 1, 1, 1, 1, 0, 0, 2, 2, 2, 0, 0, 2, 1, 0, 1, 1, 1, 0, 1,\n",
       "       0, 1, 2, 1, 0, 2, 0, 0, 0, 1, 2, 1, 1, 0, 1, 1, 1, 0, 0, 2, 2, 1,\n",
       "       1, 1, 2, 0, 2, 1, 0, 1, 1, 0, 0, 0, 2, 1, 1, 2, 2, 0, 2, 2, 2, 1,\n",
       "       1, 2, 1, 1, 1, 2, 0, 1, 2, 1, 2, 1, 2, 0, 0, 0, 0, 1, 0, 1, 1, 2,\n",
       "       2, 0, 2, 2, 0, 0, 0, 0, 0, 1, 1, 1, 1, 2, 1, 0, 1, 2, 1, 1, 2, 1,\n",
       "       0, 2, 1, 1, 1, 2, 2, 2, 2, 1, 0, 0, 1, 0, 0, 0, 1, 2, 2, 2, 2, 2,\n",
       "       2, 0, 0])"
      ]
     },
     "execution_count": 41,
     "metadata": {},
     "output_type": "execute_result"
    }
   ],
   "source": [
    "predictions.label_ids"
   ]
  },
  {
   "cell_type": "code",
   "execution_count": 5,
   "metadata": {},
   "outputs": [],
   "source": [
    "temp1 = [0, 1, 1, 2, 1, 1, 2, 1, 0, 1, 0, 0, 2, 0, 0, 1, 2, 0, 2, 1, 2, 1,\n",
    "       1, 0, 0, 0, 2, 1, 2, 2, 1, 0, 2, 0, 2, 0, 1, 0, 0, 2, 1, 2, 2, 0,\n",
    "       0, 0, 2, 2, 2, 2, 1, 1, 1, 0, 1, 1, 1, 1, 1, 2, 2, 0, 0, 0, 0, 2,\n",
    "       2, 1, 2, 1, 0, 2, 2, 0, 2, 1, 2, 1, 1, 0, 2, 0, 2, 2, 2, 1, 1, 0,\n",
    "       1, 0, 1, 0, 0, 2, 1, 2, 2, 0, 2, 2, 1, 2, 0, 1, 0, 2, 1, 2, 2, 0,\n",
    "       2, 2, 1, 0, 2, 0, 2, 1, 2, 2, 1, 2, 0, 1, 0, 1, 1, 2, 2, 2, 0, 1,\n",
    "       1, 2, 1, 2, 2, 1, 1, 2, 0, 2, 1, 1, 0, 2, 0, 1, 0, 2, 0, 2, 0, 2,\n",
    "       1, 2, 1, 1, 2, 0, 1, 0, 2, 1, 2, 2, 2, 1, 2, 1, 0, 0, 0, 2, 1, 0,\n",
    "       1, 1, 1, 2, 1, 1, 1, 1, 2, 0, 0, 0, 1, 0, 0, 1, 0, 2, 1, 0, 1, 2,\n",
    "       2, 1, 0, 1, 1, 1, 1, 2, 0, 2, 2, 2, 0, 0, 2, 0, 0, 1, 2, 1, 0, 1,\n",
    "       0, 2, 2, 1, 0, 2, 0, 0, 0, 1, 2, 1, 1, 0, 1, 1, 0, 0, 0, 2, 2, 1,\n",
    "       1, 2, 0, 1, 2, 2, 0, 1, 1, 0, 0, 0, 2, 1, 1, 2, 2, 0, 2, 1, 2, 1,\n",
    "       1, 2, 1, 2, 1, 2, 0, 1, 2, 1, 2, 1, 2, 0, 0, 0, 0, 1, 0, 1, 1, 2,\n",
    "       2, 1, 2, 2, 0, 0, 0, 0, 0, 1, 1, 1, 1, 0, 1, 0, 1, 2, 1, 0, 2, 1,\n",
    "       1, 2, 1, 1, 1, 2, 2, 1, 0, 1, 0, 0, 1, 0, 0, 0, 0, 2, 2, 2, 0, 0,\n",
    "       2, 0, 0]\n",
    "\n",
    "temp2 = [0, 1, 1, 2, 1, 1, 2, 2, 0, 1, 0, 2, 2, 0, 0, 1, 2, 0, 2, 2, 1, 1,\n",
    "       1, 0, 1, 0, 2, 1, 2, 2, 1, 0, 2, 0, 2, 0, 1, 0, 0, 2, 0, 2, 2, 1,\n",
    "       0, 0, 2, 0, 2, 2, 1, 1, 1, 0, 1, 1, 2, 1, 1, 2, 2, 0, 0, 2, 0, 1,\n",
    "       2, 1, 2, 1, 0, 2, 2, 0, 2, 2, 0, 1, 1, 0, 2, 0, 2, 2, 2, 1, 1, 0,\n",
    "       1, 0, 1, 2, 0, 2, 1, 2, 2, 2, 2, 2, 1, 0, 0, 1, 0, 0, 0, 0, 2, 1,\n",
    "       0, 2, 1, 0, 2, 2, 2, 1, 2, 1, 1, 2, 0, 1, 2, 1, 0, 2, 2, 1, 0, 1,\n",
    "       1, 2, 1, 2, 2, 1, 1, 1, 1, 2, 1, 0, 0, 2, 0, 1, 0, 1, 0, 2, 0, 0,\n",
    "       1, 2, 1, 1, 2, 0, 1, 2, 2, 1, 2, 0, 2, 1, 2, 1, 0, 0, 0, 2, 1, 0,\n",
    "       1, 1, 1, 0, 0, 1, 1, 1, 2, 0, 0, 0, 1, 0, 0, 1, 0, 2, 1, 0, 1, 2,\n",
    "       0, 1, 0, 1, 1, 1, 1, 0, 0, 2, 2, 2, 0, 0, 2, 1, 0, 1, 1, 1, 0, 1,\n",
    "       0, 1, 2, 1, 0, 2, 0, 0, 0, 1, 2, 1, 1, 0, 1, 1, 1, 0, 0, 2, 2, 1,\n",
    "       1, 1, 2, 0, 2, 1, 0, 1, 1, 0, 0, 0, 2, 1, 1, 2, 2, 0, 2, 2, 2, 1,\n",
    "       1, 2, 1, 1, 1, 2, 0, 1, 2, 1, 2, 1, 2, 0, 0, 0, 0, 1, 0, 1, 1, 2,\n",
    "       2, 0, 2, 2, 0, 0, 0, 0, 0, 1, 1, 1, 1, 2, 1, 0, 1, 2, 1, 1, 2, 1,\n",
    "       0, 2, 1, 1, 1, 2, 2, 2, 2, 1, 0, 0, 1, 0, 0, 0, 1, 2, 2, 2, 2, 2,\n",
    "       2, 0, 0]"
   ]
  },
  {
   "cell_type": "code",
   "execution_count": 6,
   "metadata": {},
   "outputs": [],
   "source": [
    "import sklearn.metrics "
   ]
  },
  {
   "cell_type": "code",
   "execution_count": 8,
   "metadata": {},
   "outputs": [
    {
     "data": {
      "text/plain": [
       "0.8308130439720092"
      ]
     },
     "execution_count": 8,
     "metadata": {},
     "output_type": "execute_result"
    }
   ],
   "source": [
    "sklearn.metrics.f1_score(temp1, temp2, average='macro')"
   ]
  },
  {
   "cell_type": "code",
   "execution_count": 10,
   "metadata": {},
   "outputs": [
    {
     "data": {
      "text/plain": [
       "0.8318318318318318"
      ]
     },
     "execution_count": 10,
     "metadata": {},
     "output_type": "execute_result"
    }
   ],
   "source": [
    "sklearn.metrics.accuracy_score(temp1, temp2)"
   ]
  },
  {
   "cell_type": "code",
   "execution_count": 12,
   "metadata": {},
   "outputs": [
    {
     "data": {
      "text/plain": [
       "0.8312661755312561"
      ]
     },
     "execution_count": 12,
     "metadata": {},
     "output_type": "execute_result"
    }
   ],
   "source": [
    "sklearn.metrics.precision_score(temp1, temp2, average ='macro')"
   ]
  },
  {
   "cell_type": "code",
   "execution_count": 13,
   "metadata": {},
   "outputs": [
    {
     "data": {
      "text/plain": [
       "0.8308109671154563"
      ]
     },
     "execution_count": 13,
     "metadata": {},
     "output_type": "execute_result"
    }
   ],
   "source": [
    "sklearn.metrics.recall_score(temp1, temp2, average ='macro')"
   ]
  },
  {
   "cell_type": "code",
   "execution_count": 16,
   "metadata": {},
   "outputs": [],
   "source": [
    "# results on our labelled validation set\n",
    "df_validation = pd.read_csv('artifact_pred_validation.csv')"
   ]
  },
  {
   "cell_type": "code",
   "execution_count": 20,
   "metadata": {},
   "outputs": [
    {
     "data": {
      "text/plain": [
       "0.9441045441045443"
      ]
     },
     "execution_count": 20,
     "metadata": {},
     "output_type": "execute_result"
    }
   ],
   "source": [
    "\n",
    "sklearn.metrics.f1_score(df_validation['label'],df_validation['label_actual'],average='macro')"
   ]
  },
  {
   "cell_type": "code",
   "execution_count": 21,
   "metadata": {},
   "outputs": [
    {
     "data": {
      "text/plain": [
       "0.95"
      ]
     },
     "execution_count": 21,
     "metadata": {},
     "output_type": "execute_result"
    }
   ],
   "source": [
    "\n",
    "sklearn.metrics.accuracy_score(df_validation['label'],df_validation['label_actual'])"
   ]
  },
  {
   "cell_type": "code",
   "execution_count": 22,
   "metadata": {},
   "outputs": [
    {
     "data": {
      "text/plain": [
       "0.9298245614035087"
      ]
     },
     "execution_count": 22,
     "metadata": {},
     "output_type": "execute_result"
    }
   ],
   "source": [
    "\n",
    "sklearn.metrics.precision_score(df_validation['label'],df_validation['label_actual'],average='macro')"
   ]
  },
  {
   "cell_type": "code",
   "execution_count": 23,
   "metadata": {},
   "outputs": [
    {
     "data": {
      "text/plain": [
       "0.9652777777777778"
      ]
     },
     "execution_count": 23,
     "metadata": {},
     "output_type": "execute_result"
    }
   ],
   "source": [
    "\n",
    "sklearn.metrics.recall_score(df_validation['label'],df_validation['label_actual'],average='macro')"
   ]
  },
  {
   "cell_type": "markdown",
   "metadata": {},
   "source": [
    "# predict on our own dataset"
   ]
  },
  {
   "cell_type": "code",
   "execution_count": 16,
   "metadata": {},
   "outputs": [
    {
     "name": "stderr",
     "output_type": "stream",
     "text": [
      "loading configuration file scibert_artifact_classifier/config.json\n",
      "Model config BertConfig {\n",
      "  \"_name_or_path\": \"scibert_artifact_classifier\",\n",
      "  \"architectures\": [\n",
      "    \"BertForSequenceClassification\"\n",
      "  ],\n",
      "  \"attention_probs_dropout_prob\": 0.1,\n",
      "  \"classifier_dropout\": null,\n",
      "  \"hidden_act\": \"gelu\",\n",
      "  \"hidden_dropout_prob\": 0.1,\n",
      "  \"hidden_size\": 768,\n",
      "  \"id2label\": {\n",
      "    \"0\": \"LABEL_0\",\n",
      "    \"1\": \"LABEL_1\",\n",
      "    \"2\": \"LABEL_2\"\n",
      "  },\n",
      "  \"initializer_range\": 0.02,\n",
      "  \"intermediate_size\": 3072,\n",
      "  \"label2id\": {\n",
      "    \"LABEL_0\": 0,\n",
      "    \"LABEL_1\": 1,\n",
      "    \"LABEL_2\": 2\n",
      "  },\n",
      "  \"layer_norm_eps\": 1e-12,\n",
      "  \"max_position_embeddings\": 512,\n",
      "  \"model_type\": \"bert\",\n",
      "  \"num_attention_heads\": 12,\n",
      "  \"num_hidden_layers\": 12,\n",
      "  \"pad_token_id\": 0,\n",
      "  \"position_embedding_type\": \"absolute\",\n",
      "  \"problem_type\": \"single_label_classification\",\n",
      "  \"torch_dtype\": \"float32\",\n",
      "  \"transformers_version\": \"4.21.3\",\n",
      "  \"type_vocab_size\": 2,\n",
      "  \"use_cache\": true,\n",
      "  \"vocab_size\": 31090\n",
      "}\n",
      "\n",
      "loading weights file scibert_artifact_classifier/pytorch_model.bin\n",
      "All model checkpoint weights were used when initializing BertForSequenceClassification.\n",
      "\n",
      "All the weights of BertForSequenceClassification were initialized from the model checkpoint at scibert_artifact_classifier.\n",
      "If your task is similar to the task the model of the checkpoint was trained on, you can already use BertForSequenceClassification for predictions without further training.\n"
     ]
    }
   ],
   "source": [
    "\n",
    "model_new = AutoModelForSequenceClassification.from_pretrained(\"scibert_artifact_classifier\", num_labels=3).to(\"cuda\")"
   ]
  },
  {
   "cell_type": "code",
   "execution_count": 17,
   "metadata": {},
   "outputs": [
    {
     "name": "stderr",
     "output_type": "stream",
     "text": [
      "The following columns in the test set don't have a corresponding argument in `BertForSequenceClassification.forward` and have been ignored: text. If text are not expected by `BertForSequenceClassification.forward`,  you can safely ignore this message.\n",
      "***** Running Prediction *****\n",
      "  Num examples = 333\n",
      "  Batch size = 16\n"
     ]
    },
    {
     "data": {
      "text/html": [],
      "text/plain": [
       "<IPython.core.display.HTML object>"
      ]
     },
     "metadata": {},
     "output_type": "display_data"
    },
    {
     "name": "stdout",
     "output_type": "stream",
     "text": [
      "(333, 3) (333,)\n"
     ]
    },
    {
     "data": {
      "text/plain": [
       "{'f1': 0.8252342665905821}"
      ]
     },
     "execution_count": 17,
     "metadata": {},
     "output_type": "execute_result"
    }
   ],
   "source": [
    "predictions = trainer.predict(tokenized_dataset_test)\n",
    "print(predictions.predictions.shape, predictions.label_ids.shape)\n",
    "\n",
    "import numpy as np\n",
    "\n",
    "preds = np.argmax(predictions.predictions, axis=-1)\n",
    "\n",
    "import evaluate\n",
    "\n",
    "metric = evaluate.load(\"f1\")\n",
    "metric.compute(predictions=preds, references=predictions.label_ids, average='macro')"
   ]
  },
  {
   "cell_type": "code",
   "execution_count": 88,
   "metadata": {},
   "outputs": [
    {
     "data": {
      "text/plain": [
       "{'accuracy': 0.8318318318318318}"
      ]
     },
     "execution_count": 88,
     "metadata": {},
     "output_type": "execute_result"
    }
   ],
   "source": [
    "metric = evaluate.load(\"accuracy\")\n",
    "metric.compute(predictions=preds, references=predictions.label_ids)"
   ]
  },
  {
   "cell_type": "code",
   "execution_count": 89,
   "metadata": {},
   "outputs": [
    {
     "data": {
      "text/plain": [
       "array([0, 1, 1, 2, 1, 1, 2, 1, 0, 1, 0, 0, 2, 0, 0, 1, 2, 0, 2, 1, 2, 1,\n",
       "       1, 0, 0, 0, 2, 1, 2, 2, 1, 0, 2, 0, 2, 0, 1, 0, 0, 2, 1, 2, 2, 0,\n",
       "       0, 0, 2, 2, 2, 2, 1, 1, 1, 0, 1, 1, 1, 1, 1, 2, 2, 0, 0, 0, 0, 2,\n",
       "       2, 1, 2, 1, 0, 2, 2, 0, 2, 1, 2, 1, 1, 0, 2, 0, 2, 2, 2, 1, 1, 0,\n",
       "       1, 0, 1, 0, 0, 2, 1, 2, 2, 0, 2, 2, 1, 2, 0, 1, 0, 2, 1, 2, 2, 0,\n",
       "       2, 2, 1, 0, 2, 0, 2, 1, 2, 2, 1, 2, 0, 1, 0, 1, 1, 2, 2, 2, 0, 1,\n",
       "       1, 2, 1, 2, 2, 1, 1, 2, 0, 2, 1, 1, 0, 2, 0, 1, 0, 2, 0, 2, 0, 2,\n",
       "       1, 2, 1, 1, 2, 0, 1, 0, 2, 1, 2, 2, 2, 1, 2, 1, 0, 0, 0, 2, 1, 0,\n",
       "       1, 1, 1, 2, 1, 1, 1, 1, 2, 0, 0, 0, 1, 0, 0, 1, 0, 2, 1, 0, 1, 2,\n",
       "       2, 1, 0, 1, 1, 1, 1, 2, 0, 2, 2, 2, 0, 0, 2, 0, 0, 1, 2, 1, 0, 1,\n",
       "       0, 2, 2, 1, 0, 2, 0, 0, 0, 1, 2, 1, 1, 0, 1, 1, 0, 0, 0, 2, 2, 1,\n",
       "       1, 2, 0, 1, 2, 2, 0, 1, 1, 0, 0, 0, 2, 1, 1, 2, 2, 0, 2, 1, 2, 1,\n",
       "       1, 2, 1, 2, 1, 2, 0, 1, 2, 1, 2, 1, 2, 0, 0, 0, 0, 1, 0, 1, 1, 2,\n",
       "       2, 1, 2, 2, 0, 0, 0, 0, 0, 1, 1, 1, 1, 0, 1, 0, 1, 2, 1, 0, 2, 1,\n",
       "       1, 2, 1, 1, 1, 2, 2, 1, 0, 1, 0, 0, 1, 0, 0, 0, 0, 2, 2, 2, 0, 0,\n",
       "       2, 0, 0])"
      ]
     },
     "execution_count": 89,
     "metadata": {},
     "output_type": "execute_result"
    }
   ],
   "source": [
    "preds"
   ]
  },
  {
   "cell_type": "code",
   "execution_count": 18,
   "metadata": {},
   "outputs": [
    {
     "name": "stderr",
     "output_type": "stream",
     "text": [
      "/tmp/ipykernel_30/2959758657.py:1: DtypeWarning: Columns (0) have mixed types. Specify dtype option on import or set low_memory=False.\n",
      "  df = pd.read_csv('/net/s3/s2-research/hanchengc/cleaned_arxiv_url_context/extracted_url_data_arxiv_normalized_field.tsv',sep='\\t')\n"
     ]
    }
   ],
   "source": [
    "df = pd.read_csv('../../extracted_url_data_arxiv_normalized_field.tsv',sep='\\t')"
   ]
  },
  {
   "cell_type": "code",
   "execution_count": 19,
   "metadata": {},
   "outputs": [
    {
     "data": {
      "text/html": [
       "<div>\n",
       "<style scoped>\n",
       "    .dataframe tbody tr th:only-of-type {\n",
       "        vertical-align: middle;\n",
       "    }\n",
       "\n",
       "    .dataframe tbody tr th {\n",
       "        vertical-align: top;\n",
       "    }\n",
       "\n",
       "    .dataframe thead th {\n",
       "        text-align: right;\n",
       "    }\n",
       "</style>\n",
       "<table border=\"1\" class=\"dataframe\">\n",
       "  <thead>\n",
       "    <tr style=\"text-align: right;\">\n",
       "      <th></th>\n",
       "      <th>PAPER_ID</th>\n",
       "      <th>SEC_INDEX</th>\n",
       "      <th>POS_INDEX</th>\n",
       "      <th>SECTION</th>\n",
       "      <th>IsFOOTNOTE</th>\n",
       "      <th>FOOTNOTE</th>\n",
       "      <th>CONTEXT</th>\n",
       "      <th>CONTEXT_PAR</th>\n",
       "      <th>URLS</th>\n",
       "      <th>subdomain</th>\n",
       "      <th>...</th>\n",
       "      <th>suffix</th>\n",
       "      <th>URLS_normalized</th>\n",
       "      <th>year</th>\n",
       "      <th>URLS_reextracted</th>\n",
       "      <th>URLS_reextracted_normalized</th>\n",
       "      <th>URLS_reextracted_normalized_stripped</th>\n",
       "      <th>year_range</th>\n",
       "      <th>categories</th>\n",
       "      <th>categories_top</th>\n",
       "      <th>categories_top_final</th>\n",
       "    </tr>\n",
       "  </thead>\n",
       "  <tbody>\n",
       "    <tr>\n",
       "      <th>0</th>\n",
       "      <td>astroph0001519</td>\n",
       "      <td>body_text</td>\n",
       "      <td>1</td>\n",
       "      <td>Introduction</td>\n",
       "      <td>0</td>\n",
       "      <td>NaN</td>\n",
       "      <td>Early photometric observations consist of main...</td>\n",
       "      <td>Early photometric observations consist of main...</td>\n",
       "      <td>http://www.kusastro.kyoto-u.ac.jp/vsnet</td>\n",
       "      <td>www.kusastro</td>\n",
       "      <td>...</td>\n",
       "      <td>ac.jp</td>\n",
       "      <td>http://www.kusastro.kyoto-u.ac.jp/vsnet</td>\n",
       "      <td>2000</td>\n",
       "      <td>http://www.kusastro.kyoto-u.ac.jp/vsnet</td>\n",
       "      <td>http://www.kusastro.kyoto-u.ac.jp/vsnet</td>\n",
       "      <td>kusastro.kyoto-u.ac.jp/vsnet</td>\n",
       "      <td>1996-2000</td>\n",
       "      <td>astro-ph</td>\n",
       "      <td>astro-ph</td>\n",
       "      <td>physics</td>\n",
       "    </tr>\n",
       "    <tr>\n",
       "      <th>1</th>\n",
       "      <td>astroph0001298</td>\n",
       "      <td>body_text</td>\n",
       "      <td>78</td>\n",
       "      <td>Discussion</td>\n",
       "      <td>0</td>\n",
       "      <td>NaN</td>\n",
       "      <td>It is interesting to note that the capabilitie...</td>\n",
       "      <td>One way around the uncertainties in assuming e...</td>\n",
       "      <td>http://maxim.gsfc.nasa.gov</td>\n",
       "      <td>maxim.gsfc</td>\n",
       "      <td>...</td>\n",
       "      <td>gov</td>\n",
       "      <td>http://maxim.gsfc.nasa.gov/</td>\n",
       "      <td>2000</td>\n",
       "      <td>http://maxim.gsfc.nasa.gov</td>\n",
       "      <td>http://maxim.gsfc.nasa.gov/</td>\n",
       "      <td>maxim.gsfc.nasa.gov/</td>\n",
       "      <td>1996-2000</td>\n",
       "      <td>astro-ph</td>\n",
       "      <td>astro-ph</td>\n",
       "      <td>physics</td>\n",
       "    </tr>\n",
       "    <tr>\n",
       "      <th>2</th>\n",
       "      <td>astroph0001299</td>\n",
       "      <td>body_text</td>\n",
       "      <td>5</td>\n",
       "      <td>Search and Analysis</td>\n",
       "      <td>1</td>\n",
       "      <td>Via: http://heasarc.gsfc.nasa.gov/W3Browse</td>\n",
       "      <td>We have searched the ROSAT public database FOO...</td>\n",
       "      <td>We have searched the ROSAT public database FOO...</td>\n",
       "      <td>http://heasarc.gsfc.nasa.gov/W3Browse</td>\n",
       "      <td>heasarc.gsfc</td>\n",
       "      <td>...</td>\n",
       "      <td>gov</td>\n",
       "      <td>http://heasarc.gsfc.nasa.gov/W3Browse</td>\n",
       "      <td>2000</td>\n",
       "      <td>http://heasarc.gsfc.nasa.gov/W3Browse</td>\n",
       "      <td>http://heasarc.gsfc.nasa.gov/W3Browse</td>\n",
       "      <td>heasarc.gsfc.nasa.gov/W3Browse</td>\n",
       "      <td>1996-2000</td>\n",
       "      <td>astro-ph</td>\n",
       "      <td>astro-ph</td>\n",
       "      <td>physics</td>\n",
       "    </tr>\n",
       "    <tr>\n",
       "      <th>3</th>\n",
       "      <td>astroph0001006</td>\n",
       "      <td>body_text</td>\n",
       "      <td>10</td>\n",
       "      <td>Two-point correlation function</td>\n",
       "      <td>1</td>\n",
       "      <td>for more details see http://www.batse.msfc.nas...</td>\n",
       "      <td>Another major source of uncertainty comes from...</td>\n",
       "      <td>2. From Figure 1 (Left Panel) it is seen that ...</td>\n",
       "      <td>http://www.batse.msfc.nasa.gov/batse/grb/catalog</td>\n",
       "      <td>www.batse.msfc</td>\n",
       "      <td>...</td>\n",
       "      <td>gov</td>\n",
       "      <td>http://www.batse.msfc.nasa.gov/batse/grb/catalog</td>\n",
       "      <td>2000</td>\n",
       "      <td>http://www.batse.msfc.nasa.gov/batse/grb/catalog</td>\n",
       "      <td>http://www.batse.msfc.nasa.gov/batse/grb/catalog</td>\n",
       "      <td>batse.msfc.nasa.gov/batse/grb/catalog</td>\n",
       "      <td>1996-2000</td>\n",
       "      <td>astro-ph</td>\n",
       "      <td>astro-ph</td>\n",
       "      <td>physics</td>\n",
       "    </tr>\n",
       "    <tr>\n",
       "      <th>4</th>\n",
       "      <td>astroph0001006</td>\n",
       "      <td>body_text</td>\n",
       "      <td>23</td>\n",
       "      <td>Conclusions and Summary</td>\n",
       "      <td>0</td>\n",
       "      <td>NaN</td>\n",
       "      <td>Greiner, J. , http://www.aip.de/People/JGreine...</td>\n",
       "      <td>Greiner, J. , http://www.aip.de/People/JGreine...</td>\n",
       "      <td>http://www.aip.de/People/JGreiner/grbgen.html</td>\n",
       "      <td>www</td>\n",
       "      <td>...</td>\n",
       "      <td>de</td>\n",
       "      <td>http://www.aip.de/People/JGreiner/grbgen.html</td>\n",
       "      <td>2000</td>\n",
       "      <td>http://www.aip.de/People/JGreiner/grbgen.html</td>\n",
       "      <td>http://www.aip.de/People/JGreiner/grbgen.html</td>\n",
       "      <td>aip.de/People/JGreiner/grbgen.html</td>\n",
       "      <td>1996-2000</td>\n",
       "      <td>astro-ph</td>\n",
       "      <td>astro-ph</td>\n",
       "      <td>physics</td>\n",
       "    </tr>\n",
       "    <tr>\n",
       "      <th>...</th>\n",
       "      <td>...</td>\n",
       "      <td>...</td>\n",
       "      <td>...</td>\n",
       "      <td>...</td>\n",
       "      <td>...</td>\n",
       "      <td>...</td>\n",
       "      <td>...</td>\n",
       "      <td>...</td>\n",
       "      <td>...</td>\n",
       "      <td>...</td>\n",
       "      <td>...</td>\n",
       "      <td>...</td>\n",
       "      <td>...</td>\n",
       "      <td>...</td>\n",
       "      <td>...</td>\n",
       "      <td>...</td>\n",
       "      <td>...</td>\n",
       "      <td>...</td>\n",
       "      <td>...</td>\n",
       "      <td>...</td>\n",
       "      <td>...</td>\n",
       "    </tr>\n",
       "    <tr>\n",
       "      <th>805701</th>\n",
       "      <td>nuclth9907096</td>\n",
       "      <td>body_text</td>\n",
       "      <td>235</td>\n",
       "      <td>Total pion multiplicity::Bose-Einstein distrib...</td>\n",
       "      <td>0</td>\n",
       "      <td>NaN</td>\n",
       "      <td>S. Schönfelder, PhD thesis, MPI für Physik, Mü...</td>\n",
       "      <td>S. Schönfelder, PhD thesis, MPI für Physik, Mü...</td>\n",
       "      <td>http://na49info.cern.ch/cgi-bin/wwwd-util</td>\n",
       "      <td>na49info</td>\n",
       "      <td>...</td>\n",
       "      <td>ch</td>\n",
       "      <td>http://na49info.cern.ch/cgi-bin/wwwd-util</td>\n",
       "      <td>1999</td>\n",
       "      <td>http://na49info.cern.ch/cgi-bin/wwwd-util</td>\n",
       "      <td>http://na49info.cern.ch/cgi-bin/wwwd-util</td>\n",
       "      <td>na49info.cern.ch/cgi-bin/wwwd-util</td>\n",
       "      <td>1996-2000</td>\n",
       "      <td>nucl-th</td>\n",
       "      <td>nucl-th</td>\n",
       "      <td>physics</td>\n",
       "    </tr>\n",
       "    <tr>\n",
       "      <th>805702</th>\n",
       "      <td>nuclth9907096</td>\n",
       "      <td>body_text</td>\n",
       "      <td>237</td>\n",
       "      <td>Total pion multiplicity::Bose-Einstein distrib...</td>\n",
       "      <td>0</td>\n",
       "      <td>NaN</td>\n",
       "      <td>H. Appelshäuser, PhD thesis, Johann Wolfgang G...</td>\n",
       "      <td>H. Appelshäuser, PhD thesis, Johann Wolfgang G...</td>\n",
       "      <td>http://na49info.cern.ch/cgi-bin/wwwd-util/NA49...</td>\n",
       "      <td>na49info</td>\n",
       "      <td>...</td>\n",
       "      <td>ch</td>\n",
       "      <td>http://na49info.cern.ch/cgi-bin/wwwd-util/NA49...</td>\n",
       "      <td>1999</td>\n",
       "      <td>http://na49info.cern.ch/cgi-bin/wwwd-util/NA49...</td>\n",
       "      <td>http://na49info.cern.ch/cgi-bin/wwwd-util/NA49...</td>\n",
       "      <td>na49info.cern.ch/cgi-bin/wwwd-util/NA49/NOTE?150</td>\n",
       "      <td>1996-2000</td>\n",
       "      <td>nucl-th</td>\n",
       "      <td>nucl-th</td>\n",
       "      <td>physics</td>\n",
       "    </tr>\n",
       "    <tr>\n",
       "      <th>805703</th>\n",
       "      <td>nuclth9907096</td>\n",
       "      <td>body_text</td>\n",
       "      <td>247</td>\n",
       "      <td>Total pion multiplicity::Bose-Einstein distrib...</td>\n",
       "      <td>0</td>\n",
       "      <td>NaN</td>\n",
       "      <td>F. James, MINUIT – Function Minimization and E...</td>\n",
       "      <td>F. James, MINUIT – Function Minimization and E...</td>\n",
       "      <td>http://consult.cern.ch/writeups/minuit</td>\n",
       "      <td>consult</td>\n",
       "      <td>...</td>\n",
       "      <td>ch</td>\n",
       "      <td>http://consult.cern.ch/writeups/minuit</td>\n",
       "      <td>1999</td>\n",
       "      <td>http://consult.cern.ch/writeups/minuit</td>\n",
       "      <td>http://consult.cern.ch/writeups/minuit</td>\n",
       "      <td>consult.cern.ch/writeups/minuit</td>\n",
       "      <td>1996-2000</td>\n",
       "      <td>nucl-th</td>\n",
       "      <td>nucl-th</td>\n",
       "      <td>physics</td>\n",
       "    </tr>\n",
       "    <tr>\n",
       "      <th>805704</th>\n",
       "      <td>physics9907048</td>\n",
       "      <td>abstract</td>\n",
       "      <td>7</td>\n",
       "      <td>Abstract</td>\n",
       "      <td>0</td>\n",
       "      <td>NaN</td>\n",
       "      <td>URL: http://ahobon.reduaz.mx/valeri/valeri.htm</td>\n",
       "      <td>URL: http://ahobon.reduaz.mx/valeri/valeri.htm</td>\n",
       "      <td>http://ahobon.reduaz.mx/valeri/valeri.htm</td>\n",
       "      <td>ahobon</td>\n",
       "      <td>...</td>\n",
       "      <td>mx</td>\n",
       "      <td>http://ahobon.reduaz.mx/valeri/valeri.htm</td>\n",
       "      <td>1999</td>\n",
       "      <td>http://ahobon.reduaz.mx/valeri/valeri.htm</td>\n",
       "      <td>http://ahobon.reduaz.mx/valeri/valeri.htm</td>\n",
       "      <td>ahobon.reduaz.mx/valeri/valeri.htm</td>\n",
       "      <td>1996-2000</td>\n",
       "      <td>physics.class-ph physics.gen-ph</td>\n",
       "      <td>physics</td>\n",
       "      <td>physics</td>\n",
       "    </tr>\n",
       "    <tr>\n",
       "      <th>805705</th>\n",
       "      <td>quantph9907072</td>\n",
       "      <td>body_text</td>\n",
       "      <td>95</td>\n",
       "      <td>CONCLUSION</td>\n",
       "      <td>0</td>\n",
       "      <td>NaN</td>\n",
       "      <td>Internet: mpavicic@faust.irb.hr; Web: http://m...</td>\n",
       "      <td>Permanent address. Internet: mpavicic@faust.ir...</td>\n",
       "      <td>http://m3k.grad.hr/pavicic</td>\n",
       "      <td>m3k</td>\n",
       "      <td>...</td>\n",
       "      <td>hr</td>\n",
       "      <td>http://m3k.grad.hr/pavicic</td>\n",
       "      <td>1999</td>\n",
       "      <td>http://m3k.grad.hr/pavicic</td>\n",
       "      <td>http://m3k.grad.hr/pavicic</td>\n",
       "      <td>m3k.grad.hr/pavicic</td>\n",
       "      <td>1996-2000</td>\n",
       "      <td>quant-ph</td>\n",
       "      <td>quant-ph</td>\n",
       "      <td>physics</td>\n",
       "    </tr>\n",
       "  </tbody>\n",
       "</table>\n",
       "<p>805706 rows × 21 columns</p>\n",
       "</div>"
      ],
      "text/plain": [
       "              PAPER_ID  SEC_INDEX  POS_INDEX  \\\n",
       "0       astroph0001519  body_text          1   \n",
       "1       astroph0001298  body_text         78   \n",
       "2       astroph0001299  body_text          5   \n",
       "3       astroph0001006  body_text         10   \n",
       "4       astroph0001006  body_text         23   \n",
       "...                ...        ...        ...   \n",
       "805701   nuclth9907096  body_text        235   \n",
       "805702   nuclth9907096  body_text        237   \n",
       "805703   nuclth9907096  body_text        247   \n",
       "805704  physics9907048   abstract          7   \n",
       "805705  quantph9907072  body_text         95   \n",
       "\n",
       "                                                  SECTION  IsFOOTNOTE  \\\n",
       "0                                            Introduction           0   \n",
       "1                                              Discussion           0   \n",
       "2                                     Search and Analysis           1   \n",
       "3                          Two-point correlation function           1   \n",
       "4                                 Conclusions and Summary           0   \n",
       "...                                                   ...         ...   \n",
       "805701  Total pion multiplicity::Bose-Einstein distrib...           0   \n",
       "805702  Total pion multiplicity::Bose-Einstein distrib...           0   \n",
       "805703  Total pion multiplicity::Bose-Einstein distrib...           0   \n",
       "805704                                           Abstract           0   \n",
       "805705                                         CONCLUSION           0   \n",
       "\n",
       "                                                 FOOTNOTE  \\\n",
       "0                                                     NaN   \n",
       "1                                                     NaN   \n",
       "2              Via: http://heasarc.gsfc.nasa.gov/W3Browse   \n",
       "3       for more details see http://www.batse.msfc.nas...   \n",
       "4                                                     NaN   \n",
       "...                                                   ...   \n",
       "805701                                                NaN   \n",
       "805702                                                NaN   \n",
       "805703                                                NaN   \n",
       "805704                                                NaN   \n",
       "805705                                                NaN   \n",
       "\n",
       "                                                  CONTEXT  \\\n",
       "0       Early photometric observations consist of main...   \n",
       "1       It is interesting to note that the capabilitie...   \n",
       "2       We have searched the ROSAT public database FOO...   \n",
       "3       Another major source of uncertainty comes from...   \n",
       "4       Greiner, J. , http://www.aip.de/People/JGreine...   \n",
       "...                                                   ...   \n",
       "805701  S. Schönfelder, PhD thesis, MPI für Physik, Mü...   \n",
       "805702  H. Appelshäuser, PhD thesis, Johann Wolfgang G...   \n",
       "805703  F. James, MINUIT – Function Minimization and E...   \n",
       "805704     URL: http://ahobon.reduaz.mx/valeri/valeri.htm   \n",
       "805705  Internet: mpavicic@faust.irb.hr; Web: http://m...   \n",
       "\n",
       "                                              CONTEXT_PAR  \\\n",
       "0       Early photometric observations consist of main...   \n",
       "1       One way around the uncertainties in assuming e...   \n",
       "2       We have searched the ROSAT public database FOO...   \n",
       "3       2. From Figure 1 (Left Panel) it is seen that ...   \n",
       "4       Greiner, J. , http://www.aip.de/People/JGreine...   \n",
       "...                                                   ...   \n",
       "805701  S. Schönfelder, PhD thesis, MPI für Physik, Mü...   \n",
       "805702  H. Appelshäuser, PhD thesis, Johann Wolfgang G...   \n",
       "805703  F. James, MINUIT – Function Minimization and E...   \n",
       "805704     URL: http://ahobon.reduaz.mx/valeri/valeri.htm   \n",
       "805705  Permanent address. Internet: mpavicic@faust.ir...   \n",
       "\n",
       "                                                     URLS       subdomain  \\\n",
       "0                 http://www.kusastro.kyoto-u.ac.jp/vsnet    www.kusastro   \n",
       "1                              http://maxim.gsfc.nasa.gov      maxim.gsfc   \n",
       "2                   http://heasarc.gsfc.nasa.gov/W3Browse    heasarc.gsfc   \n",
       "3        http://www.batse.msfc.nasa.gov/batse/grb/catalog  www.batse.msfc   \n",
       "4           http://www.aip.de/People/JGreiner/grbgen.html             www   \n",
       "...                                                   ...             ...   \n",
       "805701          http://na49info.cern.ch/cgi-bin/wwwd-util        na49info   \n",
       "805702  http://na49info.cern.ch/cgi-bin/wwwd-util/NA49...        na49info   \n",
       "805703             http://consult.cern.ch/writeups/minuit         consult   \n",
       "805704          http://ahobon.reduaz.mx/valeri/valeri.htm          ahobon   \n",
       "805705                         http://m3k.grad.hr/pavicic             m3k   \n",
       "\n",
       "        ... suffix                                    URLS_normalized  year  \\\n",
       "0       ...  ac.jp            http://www.kusastro.kyoto-u.ac.jp/vsnet  2000   \n",
       "1       ...    gov                        http://maxim.gsfc.nasa.gov/  2000   \n",
       "2       ...    gov              http://heasarc.gsfc.nasa.gov/W3Browse  2000   \n",
       "3       ...    gov   http://www.batse.msfc.nasa.gov/batse/grb/catalog  2000   \n",
       "4       ...     de      http://www.aip.de/People/JGreiner/grbgen.html  2000   \n",
       "...     ...    ...                                                ...   ...   \n",
       "805701  ...     ch          http://na49info.cern.ch/cgi-bin/wwwd-util  1999   \n",
       "805702  ...     ch  http://na49info.cern.ch/cgi-bin/wwwd-util/NA49...  1999   \n",
       "805703  ...     ch             http://consult.cern.ch/writeups/minuit  1999   \n",
       "805704  ...     mx          http://ahobon.reduaz.mx/valeri/valeri.htm  1999   \n",
       "805705  ...     hr                         http://m3k.grad.hr/pavicic  1999   \n",
       "\n",
       "                                         URLS_reextracted  \\\n",
       "0                 http://www.kusastro.kyoto-u.ac.jp/vsnet   \n",
       "1                              http://maxim.gsfc.nasa.gov   \n",
       "2                   http://heasarc.gsfc.nasa.gov/W3Browse   \n",
       "3        http://www.batse.msfc.nasa.gov/batse/grb/catalog   \n",
       "4           http://www.aip.de/People/JGreiner/grbgen.html   \n",
       "...                                                   ...   \n",
       "805701          http://na49info.cern.ch/cgi-bin/wwwd-util   \n",
       "805702  http://na49info.cern.ch/cgi-bin/wwwd-util/NA49...   \n",
       "805703             http://consult.cern.ch/writeups/minuit   \n",
       "805704          http://ahobon.reduaz.mx/valeri/valeri.htm   \n",
       "805705                         http://m3k.grad.hr/pavicic   \n",
       "\n",
       "                              URLS_reextracted_normalized  \\\n",
       "0                 http://www.kusastro.kyoto-u.ac.jp/vsnet   \n",
       "1                             http://maxim.gsfc.nasa.gov/   \n",
       "2                   http://heasarc.gsfc.nasa.gov/W3Browse   \n",
       "3        http://www.batse.msfc.nasa.gov/batse/grb/catalog   \n",
       "4           http://www.aip.de/People/JGreiner/grbgen.html   \n",
       "...                                                   ...   \n",
       "805701          http://na49info.cern.ch/cgi-bin/wwwd-util   \n",
       "805702  http://na49info.cern.ch/cgi-bin/wwwd-util/NA49...   \n",
       "805703             http://consult.cern.ch/writeups/minuit   \n",
       "805704          http://ahobon.reduaz.mx/valeri/valeri.htm   \n",
       "805705                         http://m3k.grad.hr/pavicic   \n",
       "\n",
       "                    URLS_reextracted_normalized_stripped year_range  \\\n",
       "0                           kusastro.kyoto-u.ac.jp/vsnet  1996-2000   \n",
       "1                                   maxim.gsfc.nasa.gov/  1996-2000   \n",
       "2                         heasarc.gsfc.nasa.gov/W3Browse  1996-2000   \n",
       "3                  batse.msfc.nasa.gov/batse/grb/catalog  1996-2000   \n",
       "4                     aip.de/People/JGreiner/grbgen.html  1996-2000   \n",
       "...                                                  ...        ...   \n",
       "805701                na49info.cern.ch/cgi-bin/wwwd-util  1996-2000   \n",
       "805702  na49info.cern.ch/cgi-bin/wwwd-util/NA49/NOTE?150  1996-2000   \n",
       "805703                   consult.cern.ch/writeups/minuit  1996-2000   \n",
       "805704                ahobon.reduaz.mx/valeri/valeri.htm  1996-2000   \n",
       "805705                               m3k.grad.hr/pavicic  1996-2000   \n",
       "\n",
       "                             categories categories_top categories_top_final  \n",
       "0                              astro-ph       astro-ph              physics  \n",
       "1                              astro-ph       astro-ph              physics  \n",
       "2                              astro-ph       astro-ph              physics  \n",
       "3                              astro-ph       astro-ph              physics  \n",
       "4                              astro-ph       astro-ph              physics  \n",
       "...                                 ...            ...                  ...  \n",
       "805701                          nucl-th        nucl-th              physics  \n",
       "805702                          nucl-th        nucl-th              physics  \n",
       "805703                          nucl-th        nucl-th              physics  \n",
       "805704  physics.class-ph physics.gen-ph        physics              physics  \n",
       "805705                         quant-ph       quant-ph              physics  \n",
       "\n",
       "[805706 rows x 21 columns]"
      ]
     },
     "execution_count": 19,
     "metadata": {},
     "output_type": "execute_result"
    }
   ],
   "source": [
    "df"
   ]
  },
  {
   "cell_type": "code",
   "execution_count": 52,
   "metadata": {},
   "outputs": [
    {
     "data": {
      "text/html": [
       "<div>\n",
       "<style scoped>\n",
       "    .dataframe tbody tr th:only-of-type {\n",
       "        vertical-align: middle;\n",
       "    }\n",
       "\n",
       "    .dataframe tbody tr th {\n",
       "        vertical-align: top;\n",
       "    }\n",
       "\n",
       "    .dataframe thead th {\n",
       "        text-align: right;\n",
       "    }\n",
       "</style>\n",
       "<table border=\"1\" class=\"dataframe\">\n",
       "  <thead>\n",
       "    <tr style=\"text-align: right;\">\n",
       "      <th></th>\n",
       "      <th>label</th>\n",
       "      <th>text</th>\n",
       "    </tr>\n",
       "  </thead>\n",
       "  <tbody>\n",
       "    <tr>\n",
       "      <th>0</th>\n",
       "      <td>0</td>\n",
       "      <td>In this paper , the YAiTRON dictionary is expl...</td>\n",
       "    </tr>\n",
       "    <tr>\n",
       "      <th>1</th>\n",
       "      <td>1</td>\n",
       "      <td>are used with and without 3 leading supervised...</td>\n",
       "    </tr>\n",
       "    <tr>\n",
       "      <th>2</th>\n",
       "      <td>1</td>\n",
       "      <td>2011 ], based on multilayer perceptron neural ...</td>\n",
       "    </tr>\n",
       "    <tr>\n",
       "      <th>3</th>\n",
       "      <td>2</td>\n",
       "      <td>I am grateful to Rodney Douglas and Kevan Mart...</td>\n",
       "    </tr>\n",
       "    <tr>\n",
       "      <th>4</th>\n",
       "      <td>1</td>\n",
       "      <td>The difference between reading and dictation t...</td>\n",
       "    </tr>\n",
       "    <tr>\n",
       "      <th>...</th>\n",
       "      <td>...</td>\n",
       "      <td>...</td>\n",
       "    </tr>\n",
       "    <tr>\n",
       "      <th>328</th>\n",
       "      <td>2</td>\n",
       "      <td>The majority of the English descriptions were ...</td>\n",
       "    </tr>\n",
       "    <tr>\n",
       "      <th>329</th>\n",
       "      <td>2</td>\n",
       "      <td>For instance , a matrix of P - values resultin...</td>\n",
       "    </tr>\n",
       "    <tr>\n",
       "      <th>330</th>\n",
       "      <td>2</td>\n",
       "      <td>Recent studies show that language varieties ca...</td>\n",
       "    </tr>\n",
       "    <tr>\n",
       "      <th>331</th>\n",
       "      <td>0</td>\n",
       "      <td>These pairs were classified manually in Cognat...</td>\n",
       "    </tr>\n",
       "    <tr>\n",
       "      <th>332</th>\n",
       "      <td>0</td>\n",
       "      <td>The problem of tagging images in personal albu...</td>\n",
       "    </tr>\n",
       "  </tbody>\n",
       "</table>\n",
       "<p>333 rows × 2 columns</p>\n",
       "</div>"
      ],
      "text/plain": [
       "     label                                               text\n",
       "0        0  In this paper , the YAiTRON dictionary is expl...\n",
       "1        1  are used with and without 3 leading supervised...\n",
       "2        1  2011 ], based on multilayer perceptron neural ...\n",
       "3        2  I am grateful to Rodney Douglas and Kevan Mart...\n",
       "4        1  The difference between reading and dictation t...\n",
       "..     ...                                                ...\n",
       "328      2  The majority of the English descriptions were ...\n",
       "329      2  For instance , a matrix of P - values resultin...\n",
       "330      2  Recent studies show that language varieties ca...\n",
       "331      0  These pairs were classified manually in Cognat...\n",
       "332      0  The problem of tagging images in personal albu...\n",
       "\n",
       "[333 rows x 2 columns]"
      ]
     },
     "execution_count": 52,
     "metadata": {},
     "output_type": "execute_result"
    }
   ],
   "source": [
    "df_test"
   ]
  },
  {
   "cell_type": "code",
   "execution_count": 20,
   "metadata": {},
   "outputs": [
    {
     "data": {
      "application/vnd.jupyter.widget-view+json": {
       "model_id": "4a4ae889678748f588f16398d24e9b99",
       "version_major": 2,
       "version_minor": 0
      },
      "text/plain": [
       "  0%|          | 0/806 [00:00<?, ?ba/s]"
      ]
     },
     "metadata": {},
     "output_type": "display_data"
    }
   ],
   "source": [
    "\n",
    "#df_real = df[0:100]\n",
    "#df_real = df.sample(100)\n",
    "df_real = df\n",
    "df_real['PAPER_ID'] = df_real['PAPER_ID'].astype('str')\n",
    "df_real['text'] = df['CONTEXT_PAR']\n",
    "dataset_topredict = Dataset.from_pandas(df_real)\n",
    "tokenized_dataset_topredict = dataset_topredict.map(preprocess_function, batched=True)"
   ]
  },
  {
   "cell_type": "code",
   "execution_count": 22,
   "metadata": {},
   "outputs": [
    {
     "name": "stderr",
     "output_type": "stream",
     "text": [
      "The following columns in the test set don't have a corresponding argument in `BertForSequenceClassification.forward` and have been ignored: URLS, SECTION, domain, categories, categories_top, FOOTNOTE, IsFOOTNOTE, URLS_reextracted_normalized, SEC_INDEX, PAPER_ID, CONTEXT_PAR, text, CONTEXT, categories_top_final, suffix, URLS_normalized, POS_INDEX, URLS_reextracted_normalized_stripped, URLS_reextracted, year, year_range, subdomain. If URLS, SECTION, domain, categories, categories_top, FOOTNOTE, IsFOOTNOTE, URLS_reextracted_normalized, SEC_INDEX, PAPER_ID, CONTEXT_PAR, text, CONTEXT, categories_top_final, suffix, URLS_normalized, POS_INDEX, URLS_reextracted_normalized_stripped, URLS_reextracted, year, year_range, subdomain are not expected by `BertForSequenceClassification.forward`,  you can safely ignore this message.\n",
      "***** Running Prediction *****\n",
      "  Num examples = 805706\n",
      "  Batch size = 16\n"
     ]
    },
    {
     "data": {
      "text/html": [],
      "text/plain": [
       "<IPython.core.display.HTML object>"
      ]
     },
     "metadata": {},
     "output_type": "display_data"
    },
    {
     "data": {
      "text/plain": [
       "array([2, 1, 0, ..., 1, 2, 2])"
      ]
     },
     "execution_count": 22,
     "metadata": {},
     "output_type": "execute_result"
    }
   ],
   "source": [
    "predictions_real = trainer.predict(tokenized_dataset_topredict)\n",
    "preds_real = np.argmax(predictions_real.predictions, axis=-1)\n",
    "preds_real"
   ]
  },
  {
   "cell_type": "code",
   "execution_count": 23,
   "metadata": {},
   "outputs": [
    {
     "data": {
      "text/html": [
       "<div>\n",
       "<style scoped>\n",
       "    .dataframe tbody tr th:only-of-type {\n",
       "        vertical-align: middle;\n",
       "    }\n",
       "\n",
       "    .dataframe tbody tr th {\n",
       "        vertical-align: top;\n",
       "    }\n",
       "\n",
       "    .dataframe thead th {\n",
       "        text-align: right;\n",
       "    }\n",
       "</style>\n",
       "<table border=\"1\" class=\"dataframe\">\n",
       "  <thead>\n",
       "    <tr style=\"text-align: right;\">\n",
       "      <th></th>\n",
       "      <th>PAPER_ID</th>\n",
       "      <th>SEC_INDEX</th>\n",
       "      <th>POS_INDEX</th>\n",
       "      <th>SECTION</th>\n",
       "      <th>IsFOOTNOTE</th>\n",
       "      <th>FOOTNOTE</th>\n",
       "      <th>CONTEXT</th>\n",
       "      <th>CONTEXT_PAR</th>\n",
       "      <th>URLS</th>\n",
       "      <th>subdomain</th>\n",
       "      <th>...</th>\n",
       "      <th>year</th>\n",
       "      <th>URLS_reextracted</th>\n",
       "      <th>URLS_reextracted_normalized</th>\n",
       "      <th>URLS_reextracted_normalized_stripped</th>\n",
       "      <th>year_range</th>\n",
       "      <th>categories</th>\n",
       "      <th>categories_top</th>\n",
       "      <th>categories_top_final</th>\n",
       "      <th>text</th>\n",
       "      <th>label</th>\n",
       "    </tr>\n",
       "  </thead>\n",
       "  <tbody>\n",
       "    <tr>\n",
       "      <th>0</th>\n",
       "      <td>astroph0001519</td>\n",
       "      <td>body_text</td>\n",
       "      <td>1</td>\n",
       "      <td>Introduction</td>\n",
       "      <td>0</td>\n",
       "      <td>NaN</td>\n",
       "      <td>Early photometric observations consist of main...</td>\n",
       "      <td>Early photometric observations consist of main...</td>\n",
       "      <td>http://www.kusastro.kyoto-u.ac.jp/vsnet</td>\n",
       "      <td>www.kusastro</td>\n",
       "      <td>...</td>\n",
       "      <td>2000</td>\n",
       "      <td>http://www.kusastro.kyoto-u.ac.jp/vsnet</td>\n",
       "      <td>http://www.kusastro.kyoto-u.ac.jp/vsnet</td>\n",
       "      <td>kusastro.kyoto-u.ac.jp/vsnet</td>\n",
       "      <td>1996-2000</td>\n",
       "      <td>astro-ph</td>\n",
       "      <td>astro-ph</td>\n",
       "      <td>physics</td>\n",
       "      <td>Early photometric observations consist of main...</td>\n",
       "      <td>Supplement</td>\n",
       "    </tr>\n",
       "    <tr>\n",
       "      <th>1</th>\n",
       "      <td>astroph0001298</td>\n",
       "      <td>body_text</td>\n",
       "      <td>78</td>\n",
       "      <td>Discussion</td>\n",
       "      <td>0</td>\n",
       "      <td>NaN</td>\n",
       "      <td>It is interesting to note that the capabilitie...</td>\n",
       "      <td>One way around the uncertainties in assuming e...</td>\n",
       "      <td>http://maxim.gsfc.nasa.gov</td>\n",
       "      <td>maxim.gsfc</td>\n",
       "      <td>...</td>\n",
       "      <td>2000</td>\n",
       "      <td>http://maxim.gsfc.nasa.gov</td>\n",
       "      <td>http://maxim.gsfc.nasa.gov/</td>\n",
       "      <td>maxim.gsfc.nasa.gov/</td>\n",
       "      <td>1996-2000</td>\n",
       "      <td>astro-ph</td>\n",
       "      <td>astro-ph</td>\n",
       "      <td>physics</td>\n",
       "      <td>One way around the uncertainties in assuming e...</td>\n",
       "      <td>Method</td>\n",
       "    </tr>\n",
       "    <tr>\n",
       "      <th>2</th>\n",
       "      <td>astroph0001299</td>\n",
       "      <td>body_text</td>\n",
       "      <td>5</td>\n",
       "      <td>Search and Analysis</td>\n",
       "      <td>1</td>\n",
       "      <td>Via: http://heasarc.gsfc.nasa.gov/W3Browse</td>\n",
       "      <td>We have searched the ROSAT public database FOO...</td>\n",
       "      <td>We have searched the ROSAT public database FOO...</td>\n",
       "      <td>http://heasarc.gsfc.nasa.gov/W3Browse</td>\n",
       "      <td>heasarc.gsfc</td>\n",
       "      <td>...</td>\n",
       "      <td>2000</td>\n",
       "      <td>http://heasarc.gsfc.nasa.gov/W3Browse</td>\n",
       "      <td>http://heasarc.gsfc.nasa.gov/W3Browse</td>\n",
       "      <td>heasarc.gsfc.nasa.gov/W3Browse</td>\n",
       "      <td>1996-2000</td>\n",
       "      <td>astro-ph</td>\n",
       "      <td>astro-ph</td>\n",
       "      <td>physics</td>\n",
       "      <td>We have searched the ROSAT public database FOO...</td>\n",
       "      <td>Material</td>\n",
       "    </tr>\n",
       "    <tr>\n",
       "      <th>3</th>\n",
       "      <td>astroph0001006</td>\n",
       "      <td>body_text</td>\n",
       "      <td>10</td>\n",
       "      <td>Two-point correlation function</td>\n",
       "      <td>1</td>\n",
       "      <td>for more details see http://www.batse.msfc.nas...</td>\n",
       "      <td>Another major source of uncertainty comes from...</td>\n",
       "      <td>2. From Figure 1 (Left Panel) it is seen that ...</td>\n",
       "      <td>http://www.batse.msfc.nasa.gov/batse/grb/catalog</td>\n",
       "      <td>www.batse.msfc</td>\n",
       "      <td>...</td>\n",
       "      <td>2000</td>\n",
       "      <td>http://www.batse.msfc.nasa.gov/batse/grb/catalog</td>\n",
       "      <td>http://www.batse.msfc.nasa.gov/batse/grb/catalog</td>\n",
       "      <td>batse.msfc.nasa.gov/batse/grb/catalog</td>\n",
       "      <td>1996-2000</td>\n",
       "      <td>astro-ph</td>\n",
       "      <td>astro-ph</td>\n",
       "      <td>physics</td>\n",
       "      <td>2. From Figure 1 (Left Panel) it is seen that ...</td>\n",
       "      <td>Supplement</td>\n",
       "    </tr>\n",
       "    <tr>\n",
       "      <th>4</th>\n",
       "      <td>astroph0001006</td>\n",
       "      <td>body_text</td>\n",
       "      <td>23</td>\n",
       "      <td>Conclusions and Summary</td>\n",
       "      <td>0</td>\n",
       "      <td>NaN</td>\n",
       "      <td>Greiner, J. , http://www.aip.de/People/JGreine...</td>\n",
       "      <td>Greiner, J. , http://www.aip.de/People/JGreine...</td>\n",
       "      <td>http://www.aip.de/People/JGreiner/grbgen.html</td>\n",
       "      <td>www</td>\n",
       "      <td>...</td>\n",
       "      <td>2000</td>\n",
       "      <td>http://www.aip.de/People/JGreiner/grbgen.html</td>\n",
       "      <td>http://www.aip.de/People/JGreiner/grbgen.html</td>\n",
       "      <td>aip.de/People/JGreiner/grbgen.html</td>\n",
       "      <td>1996-2000</td>\n",
       "      <td>astro-ph</td>\n",
       "      <td>astro-ph</td>\n",
       "      <td>physics</td>\n",
       "      <td>Greiner, J. , http://www.aip.de/People/JGreine...</td>\n",
       "      <td>Supplement</td>\n",
       "    </tr>\n",
       "    <tr>\n",
       "      <th>...</th>\n",
       "      <td>...</td>\n",
       "      <td>...</td>\n",
       "      <td>...</td>\n",
       "      <td>...</td>\n",
       "      <td>...</td>\n",
       "      <td>...</td>\n",
       "      <td>...</td>\n",
       "      <td>...</td>\n",
       "      <td>...</td>\n",
       "      <td>...</td>\n",
       "      <td>...</td>\n",
       "      <td>...</td>\n",
       "      <td>...</td>\n",
       "      <td>...</td>\n",
       "      <td>...</td>\n",
       "      <td>...</td>\n",
       "      <td>...</td>\n",
       "      <td>...</td>\n",
       "      <td>...</td>\n",
       "      <td>...</td>\n",
       "      <td>...</td>\n",
       "    </tr>\n",
       "    <tr>\n",
       "      <th>805701</th>\n",
       "      <td>nuclth9907096</td>\n",
       "      <td>body_text</td>\n",
       "      <td>235</td>\n",
       "      <td>Total pion multiplicity::Bose-Einstein distrib...</td>\n",
       "      <td>0</td>\n",
       "      <td>NaN</td>\n",
       "      <td>S. Schönfelder, PhD thesis, MPI für Physik, Mü...</td>\n",
       "      <td>S. Schönfelder, PhD thesis, MPI für Physik, Mü...</td>\n",
       "      <td>http://na49info.cern.ch/cgi-bin/wwwd-util</td>\n",
       "      <td>na49info</td>\n",
       "      <td>...</td>\n",
       "      <td>1999</td>\n",
       "      <td>http://na49info.cern.ch/cgi-bin/wwwd-util</td>\n",
       "      <td>http://na49info.cern.ch/cgi-bin/wwwd-util</td>\n",
       "      <td>na49info.cern.ch/cgi-bin/wwwd-util</td>\n",
       "      <td>1996-2000</td>\n",
       "      <td>nucl-th</td>\n",
       "      <td>nucl-th</td>\n",
       "      <td>physics</td>\n",
       "      <td>S. Schönfelder, PhD thesis, MPI für Physik, Mü...</td>\n",
       "      <td>Method</td>\n",
       "    </tr>\n",
       "    <tr>\n",
       "      <th>805702</th>\n",
       "      <td>nuclth9907096</td>\n",
       "      <td>body_text</td>\n",
       "      <td>237</td>\n",
       "      <td>Total pion multiplicity::Bose-Einstein distrib...</td>\n",
       "      <td>0</td>\n",
       "      <td>NaN</td>\n",
       "      <td>H. Appelshäuser, PhD thesis, Johann Wolfgang G...</td>\n",
       "      <td>H. Appelshäuser, PhD thesis, Johann Wolfgang G...</td>\n",
       "      <td>http://na49info.cern.ch/cgi-bin/wwwd-util/NA49...</td>\n",
       "      <td>na49info</td>\n",
       "      <td>...</td>\n",
       "      <td>1999</td>\n",
       "      <td>http://na49info.cern.ch/cgi-bin/wwwd-util/NA49...</td>\n",
       "      <td>http://na49info.cern.ch/cgi-bin/wwwd-util/NA49...</td>\n",
       "      <td>na49info.cern.ch/cgi-bin/wwwd-util/NA49/NOTE?150</td>\n",
       "      <td>1996-2000</td>\n",
       "      <td>nucl-th</td>\n",
       "      <td>nucl-th</td>\n",
       "      <td>physics</td>\n",
       "      <td>H. Appelshäuser, PhD thesis, Johann Wolfgang G...</td>\n",
       "      <td>Supplement</td>\n",
       "    </tr>\n",
       "    <tr>\n",
       "      <th>805703</th>\n",
       "      <td>nuclth9907096</td>\n",
       "      <td>body_text</td>\n",
       "      <td>247</td>\n",
       "      <td>Total pion multiplicity::Bose-Einstein distrib...</td>\n",
       "      <td>0</td>\n",
       "      <td>NaN</td>\n",
       "      <td>F. James, MINUIT – Function Minimization and E...</td>\n",
       "      <td>F. James, MINUIT – Function Minimization and E...</td>\n",
       "      <td>http://consult.cern.ch/writeups/minuit</td>\n",
       "      <td>consult</td>\n",
       "      <td>...</td>\n",
       "      <td>1999</td>\n",
       "      <td>http://consult.cern.ch/writeups/minuit</td>\n",
       "      <td>http://consult.cern.ch/writeups/minuit</td>\n",
       "      <td>consult.cern.ch/writeups/minuit</td>\n",
       "      <td>1996-2000</td>\n",
       "      <td>nucl-th</td>\n",
       "      <td>nucl-th</td>\n",
       "      <td>physics</td>\n",
       "      <td>F. James, MINUIT – Function Minimization and E...</td>\n",
       "      <td>Method</td>\n",
       "    </tr>\n",
       "    <tr>\n",
       "      <th>805704</th>\n",
       "      <td>physics9907048</td>\n",
       "      <td>abstract</td>\n",
       "      <td>7</td>\n",
       "      <td>Abstract</td>\n",
       "      <td>0</td>\n",
       "      <td>NaN</td>\n",
       "      <td>URL: http://ahobon.reduaz.mx/valeri/valeri.htm</td>\n",
       "      <td>URL: http://ahobon.reduaz.mx/valeri/valeri.htm</td>\n",
       "      <td>http://ahobon.reduaz.mx/valeri/valeri.htm</td>\n",
       "      <td>ahobon</td>\n",
       "      <td>...</td>\n",
       "      <td>1999</td>\n",
       "      <td>http://ahobon.reduaz.mx/valeri/valeri.htm</td>\n",
       "      <td>http://ahobon.reduaz.mx/valeri/valeri.htm</td>\n",
       "      <td>ahobon.reduaz.mx/valeri/valeri.htm</td>\n",
       "      <td>1996-2000</td>\n",
       "      <td>physics.class-ph physics.gen-ph</td>\n",
       "      <td>physics</td>\n",
       "      <td>physics</td>\n",
       "      <td>URL: http://ahobon.reduaz.mx/valeri/valeri.htm</td>\n",
       "      <td>Supplement</td>\n",
       "    </tr>\n",
       "    <tr>\n",
       "      <th>805705</th>\n",
       "      <td>quantph9907072</td>\n",
       "      <td>body_text</td>\n",
       "      <td>95</td>\n",
       "      <td>CONCLUSION</td>\n",
       "      <td>0</td>\n",
       "      <td>NaN</td>\n",
       "      <td>Internet: mpavicic@faust.irb.hr; Web: http://m...</td>\n",
       "      <td>Permanent address. Internet: mpavicic@faust.ir...</td>\n",
       "      <td>http://m3k.grad.hr/pavicic</td>\n",
       "      <td>m3k</td>\n",
       "      <td>...</td>\n",
       "      <td>1999</td>\n",
       "      <td>http://m3k.grad.hr/pavicic</td>\n",
       "      <td>http://m3k.grad.hr/pavicic</td>\n",
       "      <td>m3k.grad.hr/pavicic</td>\n",
       "      <td>1996-2000</td>\n",
       "      <td>quant-ph</td>\n",
       "      <td>quant-ph</td>\n",
       "      <td>physics</td>\n",
       "      <td>Permanent address. Internet: mpavicic@faust.ir...</td>\n",
       "      <td>Supplement</td>\n",
       "    </tr>\n",
       "  </tbody>\n",
       "</table>\n",
       "<p>805706 rows × 23 columns</p>\n",
       "</div>"
      ],
      "text/plain": [
       "              PAPER_ID  SEC_INDEX  POS_INDEX  \\\n",
       "0       astroph0001519  body_text          1   \n",
       "1       astroph0001298  body_text         78   \n",
       "2       astroph0001299  body_text          5   \n",
       "3       astroph0001006  body_text         10   \n",
       "4       astroph0001006  body_text         23   \n",
       "...                ...        ...        ...   \n",
       "805701   nuclth9907096  body_text        235   \n",
       "805702   nuclth9907096  body_text        237   \n",
       "805703   nuclth9907096  body_text        247   \n",
       "805704  physics9907048   abstract          7   \n",
       "805705  quantph9907072  body_text         95   \n",
       "\n",
       "                                                  SECTION  IsFOOTNOTE  \\\n",
       "0                                            Introduction           0   \n",
       "1                                              Discussion           0   \n",
       "2                                     Search and Analysis           1   \n",
       "3                          Two-point correlation function           1   \n",
       "4                                 Conclusions and Summary           0   \n",
       "...                                                   ...         ...   \n",
       "805701  Total pion multiplicity::Bose-Einstein distrib...           0   \n",
       "805702  Total pion multiplicity::Bose-Einstein distrib...           0   \n",
       "805703  Total pion multiplicity::Bose-Einstein distrib...           0   \n",
       "805704                                           Abstract           0   \n",
       "805705                                         CONCLUSION           0   \n",
       "\n",
       "                                                 FOOTNOTE  \\\n",
       "0                                                     NaN   \n",
       "1                                                     NaN   \n",
       "2              Via: http://heasarc.gsfc.nasa.gov/W3Browse   \n",
       "3       for more details see http://www.batse.msfc.nas...   \n",
       "4                                                     NaN   \n",
       "...                                                   ...   \n",
       "805701                                                NaN   \n",
       "805702                                                NaN   \n",
       "805703                                                NaN   \n",
       "805704                                                NaN   \n",
       "805705                                                NaN   \n",
       "\n",
       "                                                  CONTEXT  \\\n",
       "0       Early photometric observations consist of main...   \n",
       "1       It is interesting to note that the capabilitie...   \n",
       "2       We have searched the ROSAT public database FOO...   \n",
       "3       Another major source of uncertainty comes from...   \n",
       "4       Greiner, J. , http://www.aip.de/People/JGreine...   \n",
       "...                                                   ...   \n",
       "805701  S. Schönfelder, PhD thesis, MPI für Physik, Mü...   \n",
       "805702  H. Appelshäuser, PhD thesis, Johann Wolfgang G...   \n",
       "805703  F. James, MINUIT – Function Minimization and E...   \n",
       "805704     URL: http://ahobon.reduaz.mx/valeri/valeri.htm   \n",
       "805705  Internet: mpavicic@faust.irb.hr; Web: http://m...   \n",
       "\n",
       "                                              CONTEXT_PAR  \\\n",
       "0       Early photometric observations consist of main...   \n",
       "1       One way around the uncertainties in assuming e...   \n",
       "2       We have searched the ROSAT public database FOO...   \n",
       "3       2. From Figure 1 (Left Panel) it is seen that ...   \n",
       "4       Greiner, J. , http://www.aip.de/People/JGreine...   \n",
       "...                                                   ...   \n",
       "805701  S. Schönfelder, PhD thesis, MPI für Physik, Mü...   \n",
       "805702  H. Appelshäuser, PhD thesis, Johann Wolfgang G...   \n",
       "805703  F. James, MINUIT – Function Minimization and E...   \n",
       "805704     URL: http://ahobon.reduaz.mx/valeri/valeri.htm   \n",
       "805705  Permanent address. Internet: mpavicic@faust.ir...   \n",
       "\n",
       "                                                     URLS       subdomain  \\\n",
       "0                 http://www.kusastro.kyoto-u.ac.jp/vsnet    www.kusastro   \n",
       "1                              http://maxim.gsfc.nasa.gov      maxim.gsfc   \n",
       "2                   http://heasarc.gsfc.nasa.gov/W3Browse    heasarc.gsfc   \n",
       "3        http://www.batse.msfc.nasa.gov/batse/grb/catalog  www.batse.msfc   \n",
       "4           http://www.aip.de/People/JGreiner/grbgen.html             www   \n",
       "...                                                   ...             ...   \n",
       "805701          http://na49info.cern.ch/cgi-bin/wwwd-util        na49info   \n",
       "805702  http://na49info.cern.ch/cgi-bin/wwwd-util/NA49...        na49info   \n",
       "805703             http://consult.cern.ch/writeups/minuit         consult   \n",
       "805704          http://ahobon.reduaz.mx/valeri/valeri.htm          ahobon   \n",
       "805705                         http://m3k.grad.hr/pavicic             m3k   \n",
       "\n",
       "        ...  year                                   URLS_reextracted  \\\n",
       "0       ...  2000            http://www.kusastro.kyoto-u.ac.jp/vsnet   \n",
       "1       ...  2000                         http://maxim.gsfc.nasa.gov   \n",
       "2       ...  2000              http://heasarc.gsfc.nasa.gov/W3Browse   \n",
       "3       ...  2000   http://www.batse.msfc.nasa.gov/batse/grb/catalog   \n",
       "4       ...  2000      http://www.aip.de/People/JGreiner/grbgen.html   \n",
       "...     ...   ...                                                ...   \n",
       "805701  ...  1999          http://na49info.cern.ch/cgi-bin/wwwd-util   \n",
       "805702  ...  1999  http://na49info.cern.ch/cgi-bin/wwwd-util/NA49...   \n",
       "805703  ...  1999             http://consult.cern.ch/writeups/minuit   \n",
       "805704  ...  1999          http://ahobon.reduaz.mx/valeri/valeri.htm   \n",
       "805705  ...  1999                         http://m3k.grad.hr/pavicic   \n",
       "\n",
       "                              URLS_reextracted_normalized  \\\n",
       "0                 http://www.kusastro.kyoto-u.ac.jp/vsnet   \n",
       "1                             http://maxim.gsfc.nasa.gov/   \n",
       "2                   http://heasarc.gsfc.nasa.gov/W3Browse   \n",
       "3        http://www.batse.msfc.nasa.gov/batse/grb/catalog   \n",
       "4           http://www.aip.de/People/JGreiner/grbgen.html   \n",
       "...                                                   ...   \n",
       "805701          http://na49info.cern.ch/cgi-bin/wwwd-util   \n",
       "805702  http://na49info.cern.ch/cgi-bin/wwwd-util/NA49...   \n",
       "805703             http://consult.cern.ch/writeups/minuit   \n",
       "805704          http://ahobon.reduaz.mx/valeri/valeri.htm   \n",
       "805705                         http://m3k.grad.hr/pavicic   \n",
       "\n",
       "                    URLS_reextracted_normalized_stripped year_range  \\\n",
       "0                           kusastro.kyoto-u.ac.jp/vsnet  1996-2000   \n",
       "1                                   maxim.gsfc.nasa.gov/  1996-2000   \n",
       "2                         heasarc.gsfc.nasa.gov/W3Browse  1996-2000   \n",
       "3                  batse.msfc.nasa.gov/batse/grb/catalog  1996-2000   \n",
       "4                     aip.de/People/JGreiner/grbgen.html  1996-2000   \n",
       "...                                                  ...        ...   \n",
       "805701                na49info.cern.ch/cgi-bin/wwwd-util  1996-2000   \n",
       "805702  na49info.cern.ch/cgi-bin/wwwd-util/NA49/NOTE?150  1996-2000   \n",
       "805703                   consult.cern.ch/writeups/minuit  1996-2000   \n",
       "805704                ahobon.reduaz.mx/valeri/valeri.htm  1996-2000   \n",
       "805705                               m3k.grad.hr/pavicic  1996-2000   \n",
       "\n",
       "                             categories categories_top categories_top_final  \\\n",
       "0                              astro-ph       astro-ph              physics   \n",
       "1                              astro-ph       astro-ph              physics   \n",
       "2                              astro-ph       astro-ph              physics   \n",
       "3                              astro-ph       astro-ph              physics   \n",
       "4                              astro-ph       astro-ph              physics   \n",
       "...                                 ...            ...                  ...   \n",
       "805701                          nucl-th        nucl-th              physics   \n",
       "805702                          nucl-th        nucl-th              physics   \n",
       "805703                          nucl-th        nucl-th              physics   \n",
       "805704  physics.class-ph physics.gen-ph        physics              physics   \n",
       "805705                         quant-ph       quant-ph              physics   \n",
       "\n",
       "                                                     text       label  \n",
       "0       Early photometric observations consist of main...  Supplement  \n",
       "1       One way around the uncertainties in assuming e...      Method  \n",
       "2       We have searched the ROSAT public database FOO...    Material  \n",
       "3       2. From Figure 1 (Left Panel) it is seen that ...  Supplement  \n",
       "4       Greiner, J. , http://www.aip.de/People/JGreine...  Supplement  \n",
       "...                                                   ...         ...  \n",
       "805701  S. Schönfelder, PhD thesis, MPI für Physik, Mü...      Method  \n",
       "805702  H. Appelshäuser, PhD thesis, Johann Wolfgang G...  Supplement  \n",
       "805703  F. James, MINUIT – Function Minimization and E...      Method  \n",
       "805704     URL: http://ahobon.reduaz.mx/valeri/valeri.htm  Supplement  \n",
       "805705  Permanent address. Internet: mpavicic@faust.ir...  Supplement  \n",
       "\n",
       "[805706 rows x 23 columns]"
      ]
     },
     "execution_count": 23,
     "metadata": {},
     "output_type": "execute_result"
    }
   ],
   "source": [
    "df_real['label'] = preds_real\n",
    "df_real['label'] = df_real['label'].map(type_artifact_map)\n",
    "df_real"
   ]
  },
  {
   "cell_type": "code",
   "execution_count": null,
   "metadata": {},
   "outputs": [],
   "source": []
  }
 ],
 "metadata": {
  "kernelspec": {
   "display_name": "Python 3",
   "language": "python",
   "name": "python3"
  },
  "language_info": {
   "codemirror_mode": {
    "name": "ipython",
    "version": 3
   },
   "file_extension": ".py",
   "mimetype": "text/x-python",
   "name": "python",
   "nbconvert_exporter": "python",
   "pygments_lexer": "ipython3",
   "version": "3.5.2"
  }
 },
 "nbformat": 4,
 "nbformat_minor": 5
}
